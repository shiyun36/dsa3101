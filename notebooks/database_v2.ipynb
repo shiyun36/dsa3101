{
 "cells": [
  {
   "cell_type": "code",
   "execution_count": 1,
   "metadata": {},
   "outputs": [],
   "source": [
    "import os"
   ]
  },
  {
   "cell_type": "code",
   "execution_count": 2,
   "metadata": {},
   "outputs": [],
   "source": [
    "os.chdir('..')"
   ]
  },
  {
   "cell_type": "markdown",
   "metadata": {},
   "source": [
    "#### To create db, run db.py"
   ]
  },
  {
   "cell_type": "code",
   "execution_count": 40,
   "metadata": {},
   "outputs": [],
   "source": [
    "from concurrent.futures import ProcessPoolExecutor\n",
    "from db.scripts.db_esg_text_batch import insert_esg_text_batch\n",
    "from tqdm import tqdm\n",
    "from db.scripts.db_esg_vectorDB_batch import insert_esg_vectorDB_batch\n",
    "from concurrent.futures import ProcessPoolExecutor #Parallel Processing to speed up\n",
    "import json\n",
    "from db.scripts.db_esg_vectorDB_batch import insert_esg_vectorDB_batch\n",
    "from rapidfuzz import process, fuzz\n",
    "import pandas as pd\n",
    "import yahooquery as yq\n",
    "import yfinance as yf\n",
    "from db.scripts.db_insert_stocks import insert_stocks\n",
    "from db.scripts.db_insert_roa_roe import insert_roa_roe\n",
    "from dotenv import load_dotenv\n",
    "import psycopg2\n",
    "from db.scripts.get_ticker_symbol import get_ticker_symbol\n",
    "from db.scripts.get_roa_roe import get_roa_roe\n",
    "from db.scripts.get_stocks import get_stocks"
   ]
  },
  {
   "cell_type": "markdown",
   "metadata": {},
   "source": [
    "### To change DB Insertion from Local to Supabase, go to db scripts and uncomment supabase lines(including conn) and comment the local db lines(including conn)"
   ]
  },
  {
   "cell_type": "markdown",
   "metadata": {},
   "source": [
    "### Insert into esg_text_table with Batch Processing"
   ]
  },
  {
   "cell_type": "code",
   "execution_count": 4,
   "metadata": {},
   "outputs": [],
   "source": [
    "df = pd.read_csv(\"./files/labeled_pdfs_1603.csv\") ## automate this to be the df from esg_bert"
   ]
  },
  {
   "cell_type": "code",
   "execution_count": 16,
   "metadata": {},
   "outputs": [
    {
     "name": "stderr",
     "output_type": "stream",
     "text": [
      "Prepare batches: 100%|███████████████████████████████| 63903/63903 [00:03<00:00, 18062.75document/s]\n"
     ]
    }
   ],
   "source": [
    "batch = batch_data_prepare_esg_text(df,200)"
   ]
  },
  {
   "cell_type": "markdown",
   "metadata": {},
   "source": [
    "#### DB Insertion Need the Process Pool Executore for Batch Processing"
   ]
  },
  {
   "cell_type": "code",
   "execution_count": 6,
   "metadata": {},
   "outputs": [
    {
     "name": "stderr",
     "output_type": "stream",
     "text": [
      "Insert batches into DB: 100%|██████████████████████████████████| 320/320 [00:04<00:00, 73.66batch/s]\n"
     ]
    }
   ],
   "source": [
    "from concurrent.futures import ProcessPoolExecutor\n",
    "from db.scripts.db_esg_text_batch import insert_esg_text_batch\n",
    "with ProcessPoolExecutor() as executor: #allows for parallel processing\n",
    "    list(tqdm(executor.map(insert_esg_text_batch,batch), total=len(batch), desc='Insert batches into DB', unit='batch', ncols=100))\n"
   ]
  },
  {
   "cell_type": "markdown",
   "metadata": {},
   "source": [
    "#### ChromaDB --> WIP, Waiting for complete code before i can create DB insertion script but we can persist data "
   ]
  },
  {
   "cell_type": "code",
   "execution_count": null,
   "metadata": {},
   "outputs": [],
   "source": [
    "from huggingface_hub import HfApi\n",
    "from datasets import load_dataset\n",
    "from huggingface_hub import snapshot_download\n",
    "\n",
    "dataset = 'alexxtm/3101_proj_chromaDB' ##use huggingface key or just pull our own from github\n",
    "\n",
    "\n",
    "snapshot_download(local_dir=\"./test\", repo_id=dataset, repo_type='dataset')\n",
    "import chromadb\n",
    "client = chromadb.PersistentClient(path=\"./chromatest\")  # Stores DB in ./chroma_db\n",
    "collection = client.get_or_create_collection(name=\"dsa3101\")"
   ]
  },
  {
   "cell_type": "markdown",
   "metadata": {},
   "source": [
    "### Getting Financial Data"
   ]
  },
  {
   "cell_type": "markdown",
   "metadata": {},
   "source": [
    "##### Getting the company_tickers table in DF"
   ]
  },
  {
   "cell_type": "code",
   "execution_count": null,
   "metadata": {},
   "outputs": [
    {
     "data": {
      "text/html": [
       "<div>\n",
       "<style scoped>\n",
       "    .dataframe tbody tr th:only-of-type {\n",
       "        vertical-align: middle;\n",
       "    }\n",
       "\n",
       "    .dataframe tbody tr th {\n",
       "        vertical-align: top;\n",
       "    }\n",
       "\n",
       "    .dataframe thead th {\n",
       "        text-align: right;\n",
       "    }\n",
       "</style>\n",
       "<table border=\"1\" class=\"dataframe\">\n",
       "  <thead>\n",
       "    <tr style=\"text-align: right;\">\n",
       "      <th></th>\n",
       "      <th>symbol</th>\n",
       "      <th>company_name</th>\n",
       "    </tr>\n",
       "  </thead>\n",
       "  <tbody>\n",
       "    <tr>\n",
       "      <th>0</th>\n",
       "      <td>A</td>\n",
       "      <td>Agilent Technologies, Inc. Common Stock</td>\n",
       "    </tr>\n",
       "    <tr>\n",
       "      <th>1</th>\n",
       "      <td>AA</td>\n",
       "      <td>Alcoa Corporation Common Stock</td>\n",
       "    </tr>\n",
       "    <tr>\n",
       "      <th>2</th>\n",
       "      <td>AAA</td>\n",
       "      <td>Alternative Access First Priority CLO Bond ETF</td>\n",
       "    </tr>\n",
       "    <tr>\n",
       "      <th>3</th>\n",
       "      <td>AAAU</td>\n",
       "      <td>Goldman Sachs Physical Gold ETF Shares</td>\n",
       "    </tr>\n",
       "    <tr>\n",
       "      <th>4</th>\n",
       "      <td>AACT</td>\n",
       "      <td>Ares Acquisition Corporation II Class A Ordina...</td>\n",
       "    </tr>\n",
       "    <tr>\n",
       "      <th>...</th>\n",
       "      <td>...</td>\n",
       "      <td>...</td>\n",
       "    </tr>\n",
       "    <tr>\n",
       "      <th>14113</th>\n",
       "      <td>ZYME</td>\n",
       "      <td>Zymeworks Inc. - Common Stock</td>\n",
       "    </tr>\n",
       "    <tr>\n",
       "      <th>14114</th>\n",
       "      <td>ZYXI</td>\n",
       "      <td>Zynex, Inc. - Common Stock</td>\n",
       "    </tr>\n",
       "    <tr>\n",
       "      <th>14115</th>\n",
       "      <td>ZZZ</td>\n",
       "      <td>Cyber Hornet S&amp;P 500 and Bitcoin 75/25 Strateg...</td>\n",
       "    </tr>\n",
       "    <tr>\n",
       "      <th>14116</th>\n",
       "      <td>TRUE</td>\n",
       "      <td>TrueCar, Inc. - Common Stock</td>\n",
       "    </tr>\n",
       "    <tr>\n",
       "      <th>14117</th>\n",
       "      <td>NaN</td>\n",
       "      <td>NaN</td>\n",
       "    </tr>\n",
       "  </tbody>\n",
       "</table>\n",
       "<p>14118 rows × 2 columns</p>\n",
       "</div>"
      ],
      "text/plain": [
       "      symbol                                       company_name\n",
       "0          A            Agilent Technologies, Inc. Common Stock\n",
       "1         AA                     Alcoa Corporation Common Stock\n",
       "2        AAA     Alternative Access First Priority CLO Bond ETF\n",
       "3       AAAU             Goldman Sachs Physical Gold ETF Shares\n",
       "4       AACT  Ares Acquisition Corporation II Class A Ordina...\n",
       "...      ...                                                ...\n",
       "14113   ZYME                      Zymeworks Inc. - Common Stock\n",
       "14114   ZYXI                         Zynex, Inc. - Common Stock\n",
       "14115    ZZZ  Cyber Hornet S&P 500 and Bitcoin 75/25 Strateg...\n",
       "14116   TRUE                       TrueCar, Inc. - Common Stock\n",
       "14117    NaN                                                NaN\n",
       "\n",
       "[14118 rows x 2 columns]"
      ]
     },
     "execution_count": 26,
     "metadata": {},
     "output_type": "execute_result"
    }
   ],
   "source": [
    "load_dotenv('.env')\n",
    "#Get DB Params for Local DB\n",
    "db_name = os.getenv('db_name')\n",
    "db_user = os.getenv('db_user')\n",
    "db_port = os.getenv('db_port')\n",
    "db_host = os.getenv('db_host')\n",
    "db_password = os.getenv('db_password')\n",
    "conn = psycopg2.connect(f\"dbname={db_name} user={db_user} password={db_password} host={db_host} port={db_port}\")\n",
    "query = 'SELECT * FROM company_ticker'\n",
    "cur = conn.cursor()\n",
    "cur.execute(query)\n",
    "data = cur.fetchall()\n",
    "columns = [desc[0] for desc in cur.description]\n",
    "df = pd.DataFrame(data, columns=columns)\n",
    "df #this is the company_tickers database in df"
   ]
  },
  {
   "cell_type": "markdown",
   "metadata": {},
   "source": [
    "#### Getting the unique companys from our esg_text_table"
   ]
  },
  {
   "cell_type": "code",
   "execution_count": 27,
   "metadata": {},
   "outputs": [
    {
     "data": {
      "text/plain": [
       "['Applied Materials',\n",
       " 'Soltec',\n",
       " 'Pfizer',\n",
       " 'MPMaterials',\n",
       " 'SASOL',\n",
       " 'Morgan Stanley',\n",
       " 'Infosys',\n",
       " 'Infopulse',\n",
       " 'petrobras',\n",
       " 'Citibank',\n",
       " 'TechnologyOne',\n",
       " 'Marvell',\n",
       " 'Mencast',\n",
       " 'Genex',\n",
       " 'Bioceres',\n",
       " 'DBS',\n",
       " 'Lenovo',\n",
       " 'DataDog',\n",
       " 'SPX Flow',\n",
       " 'Thong Guan',\n",
       " 'Apple',\n",
       " 'RioTinto',\n",
       " 'Enel',\n",
       " 'National Bank of Kuwait-Egypt',\n",
       " 'NorthVolt',\n",
       " 'Nordson',\n",
       " 'WiseTech Global',\n",
       " 'Capgemini',\n",
       " 'Sea',\n",
       " 'ANZ',\n",
       " '3M',\n",
       " 'Razer',\n",
       " 'Itau',\n",
       " 'Dangote Cement',\n",
       " 'WEG',\n",
       " 'LG Electronics',\n",
       " 'Origin',\n",
       " 'N-iX',\n",
       " 'IBM',\n",
       " 'Bank Of China',\n",
       " 'Johnson Controls',\n",
       " 'Hanwha Solutions']"
      ]
     },
     "execution_count": 27,
     "metadata": {},
     "output_type": "execute_result"
    }
   ],
   "source": [
    "query = 'SELECT DISTINCT company FROM esg_text_table'\n",
    "cur = conn.cursor()\n",
    "cur.execute(query)\n",
    "res = list(cur.fetchall())\n",
    "result_list = [row[0] for row in res]\n",
    "result_list"
   ]
  },
  {
   "cell_type": "markdown",
   "metadata": {},
   "source": [
    "#### Getting the ticker symbols"
   ]
  },
  {
   "cell_type": "code",
   "execution_count": 28,
   "metadata": {},
   "outputs": [],
   "source": [
    "symbols = []\n",
    "for i in result_list:\n",
    "    symbols.append(get_ticker_symbol(i,df))"
   ]
  },
  {
   "cell_type": "code",
   "execution_count": 29,
   "metadata": {},
   "outputs": [
    {
     "data": {
      "text/plain": [
       "['AMAT',\n",
       " '7ST.SG',\n",
       " 'PFE',\n",
       " 'MP',\n",
       " 'SSL',\n",
       " 'MS',\n",
       " 'INFY',\n",
       " None,\n",
       " 'PBR',\n",
       " 'C',\n",
       " 'REW',\n",
       " 'MRVL',\n",
       " '5NF.SI',\n",
       " '9820.T',\n",
       " 'BIOX',\n",
       " 'D05.SI',\n",
       " 'LNVGF',\n",
       " 'DDOG',\n",
       " 'FLOW',\n",
       " '7034.KL',\n",
       " 'AAPL',\n",
       " 'RIO',\n",
       " 'ENIC',\n",
       " 'EGS60171C013-EGP.CA',\n",
       " None,\n",
       " 'NDSN',\n",
       " 'WTC.AX',\n",
       " 'CGEMY',\n",
       " 'SEA',\n",
       " 'ANZ.NZ',\n",
       " 'MMM',\n",
       " None,\n",
       " 'ITUB',\n",
       " None,\n",
       " 'WGNR',\n",
       " '066570.KS',\n",
       " 'ORGN',\n",
       " '0P0000A2DS.SW',\n",
       " 'IBM',\n",
       " '3988.HK',\n",
       " 'JCI',\n",
       " '009830.KS']"
      ]
     },
     "execution_count": 29,
     "metadata": {},
     "output_type": "execute_result"
    }
   ],
   "source": [
    "symbols"
   ]
  },
  {
   "cell_type": "markdown",
   "metadata": {},
   "source": [
    "#### Getting the Non-Private Companies (No Info available for private companies)"
   ]
  },
  {
   "cell_type": "code",
   "execution_count": 30,
   "metadata": {},
   "outputs": [],
   "source": [
    "company_ticker = pd.DataFrame({'symbol': symbols, 'name': result_list})\n",
    "company_ticker = company_ticker[company_ticker['symbol'].notna()] #available tickers"
   ]
  },
  {
   "cell_type": "markdown",
   "metadata": {},
   "source": [
    "#### Past 10 yrs stock prices for companies"
   ]
  },
  {
   "cell_type": "code",
   "execution_count": 38,
   "metadata": {},
   "outputs": [],
   "source": [
    "for index,row in company_ticker.iterrows():\n",
    "    ticker = row['symbol']\n",
    "    company = row['name']\n",
    "    stocks = get_stocks(ticker,company) #returns df\n",
    "    if stocks is None:\n",
    "        continue\n",
    "    insert_stocks(stocks)"
   ]
  },
  {
   "cell_type": "markdown",
   "metadata": {},
   "source": [
    "#### Past ROA-ROE"
   ]
  },
  {
   "cell_type": "code",
   "execution_count": 41,
   "metadata": {},
   "outputs": [],
   "source": [
    "for index,row in company_ticker.iterrows():\n",
    "    ticker = row['symbol']\n",
    "    company = row['name']\n",
    "    roa_roe = get_roa_roe(ticker,company)\n",
    "    if roa_roe is None:\n",
    "        continue\n",
    "    insert_roa_roe(roa_roe)"
   ]
  },
  {
   "cell_type": "markdown",
   "metadata": {},
   "source": [
    "#### esg_Rag_table"
   ]
  }
 ],
 "metadata": {
  "kernelspec": {
   "display_name": "3101_proj",
   "language": "python",
   "name": "python3"
  },
  "language_info": {
   "codemirror_mode": {
    "name": "ipython",
    "version": 3
   },
   "file_extension": ".py",
   "mimetype": "text/x-python",
   "name": "python",
   "nbconvert_exporter": "python",
   "pygments_lexer": "ipython3",
   "version": "3.9.15"
  }
 },
 "nbformat": 4,
 "nbformat_minor": 2
}
