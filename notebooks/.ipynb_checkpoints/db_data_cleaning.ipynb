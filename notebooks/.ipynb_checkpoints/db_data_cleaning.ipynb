{
 "cells": [
  {
   "cell_type": "markdown",
   "metadata": {},
   "source": [
    "## Database Schema Data Creation for Tables "
   ]
  },
  {
   "cell_type": "code",
   "execution_count": 2,
   "metadata": {},
   "outputs": [
    {
     "name": "stderr",
     "output_type": "stream",
     "text": [
      "/home/shiro/miniconda3/envs/3101_proj/lib/python3.9/site-packages/tqdm/auto.py:21: TqdmWarning: IProgress not found. Please update jupyter and ipywidgets. See https://ipywidgets.readthedocs.io/en/stable/user_install.html\n",
      "  from .autonotebook import tqdm as notebook_tqdm\n"
     ]
    }
   ],
   "source": [
    "import pandas as pd\n",
    "import spacy\n",
    "import displacy\n",
    "nlp = spacy.load('en_core_web_md')"
   ]
  },
  {
   "cell_type": "markdown",
   "metadata": {},
   "source": [
    "data generated using esg_bert model with confidence score included"
   ]
  },
  {
   "cell_type": "code",
   "execution_count": 8,
   "metadata": {},
   "outputs": [
    {
     "data": {
      "text/html": [
       "<div>\n",
       "<style scoped>\n",
       "    .dataframe tbody tr th:only-of-type {\n",
       "        vertical-align: middle;\n",
       "    }\n",
       "\n",
       "    .dataframe tbody tr th {\n",
       "        vertical-align: top;\n",
       "    }\n",
       "\n",
       "    .dataframe thead th {\n",
       "        text-align: right;\n",
       "    }\n",
       "</style>\n",
       "<table border=\"1\" class=\"dataframe\">\n",
       "  <thead>\n",
       "    <tr style=\"text-align: right;\">\n",
       "      <th></th>\n",
       "      <th>Unnamed: 0</th>\n",
       "      <th>0</th>\n",
       "      <th>label</th>\n",
       "      <th>score</th>\n",
       "    </tr>\n",
       "  </thead>\n",
       "  <tbody>\n",
       "    <tr>\n",
       "      <th>0</th>\n",
       "      <td>0</td>\n",
       "      <td>(ab)  iS Ee  oO  SOcie J Environmental  &amp; Gove...</td>\n",
       "      <td>Business_Ethics</td>\n",
       "      <td>0.256791</td>\n",
       "    </tr>\n",
       "    <tr>\n",
       "      <th>1</th>\n",
       "      <td>1</td>\n",
       "      <td>For more information, please see About this Re...</td>\n",
       "      <td>Management_Of_Legal_And_Regulatory_Framework</td>\n",
       "      <td>0.399786</td>\n",
       "    </tr>\n",
       "    <tr>\n",
       "      <th>2</th>\n",
       "      <td>2</td>\n",
       "      <td>Where to find more information  14} 2022 Annua...</td>\n",
       "      <td>Business_Model_Resilience</td>\n",
       "      <td>0.760010</td>\n",
       "    </tr>\n",
       "    <tr>\n",
       "      <th>3</th>\n",
       "      <td>3</td>\n",
       "      <td>Our focus is rooted in our  purpose to deliver...</td>\n",
       "      <td>Human_Rights_And_Community_Relations</td>\n",
       "      <td>0.300252</td>\n",
       "    </tr>\n",
       "    <tr>\n",
       "      <th>4</th>\n",
       "      <td>4</td>\n",
       "      <td>Stepping Up to Meet the Demands of a  Changing...</td>\n",
       "      <td>Access_And_Affordability</td>\n",
       "      <td>0.196161</td>\n",
       "    </tr>\n",
       "    <tr>\n",
       "      <th>...</th>\n",
       "      <td>...</td>\n",
       "      <td>...</td>\n",
       "      <td>...</td>\n",
       "      <td>...</td>\n",
       "    </tr>\n",
       "    <tr>\n",
       "      <th>1328</th>\n",
       "      <td>1328</td>\n",
       "      <td>In our opinion, management's assertion that th...</td>\n",
       "      <td>Management_Of_Legal_And_Regulatory_Framework</td>\n",
       "      <td>0.931985</td>\n",
       "    </tr>\n",
       "    <tr>\n",
       "      <th>1329</th>\n",
       "      <td>1329</td>\n",
       "      <td>KPWGs LLP  New York, New York  March 16, 2023 ...</td>\n",
       "      <td>Selling_Practices_And_Product_Labeling</td>\n",
       "      <td>0.642459</td>\n",
       "    </tr>\n",
       "    <tr>\n",
       "      <th>1330</th>\n",
       "      <td>1330</td>\n",
       "      <td>The products discussed  herein may have differ...</td>\n",
       "      <td>Selling_Practices_And_Product_Labeling</td>\n",
       "      <td>0.820957</td>\n",
       "    </tr>\n",
       "    <tr>\n",
       "      <th>1331</th>\n",
       "      <td>1331</td>\n",
       "      <td>Copyright © 2022-2023 Pfizer Inc.</td>\n",
       "      <td>Management_Of_Legal_And_Regulatory_Framework</td>\n",
       "      <td>0.323478</td>\n",
       "    </tr>\n",
       "    <tr>\n",
       "      <th>1332</th>\n",
       "      <td>1332</td>\n",
       "      <td>All rights reserved  66 Hudson Boulevard East ...</td>\n",
       "      <td>Customer_Privacy</td>\n",
       "      <td>0.120179</td>\n",
       "    </tr>\n",
       "  </tbody>\n",
       "</table>\n",
       "<p>1333 rows × 4 columns</p>\n",
       "</div>"
      ],
      "text/plain": [
       "      Unnamed: 0                                                  0  \\\n",
       "0              0  (ab)  iS Ee  oO  SOcie J Environmental  & Gove...   \n",
       "1              1  For more information, please see About this Re...   \n",
       "2              2  Where to find more information  14} 2022 Annua...   \n",
       "3              3  Our focus is rooted in our  purpose to deliver...   \n",
       "4              4  Stepping Up to Meet the Demands of a  Changing...   \n",
       "...          ...                                                ...   \n",
       "1328        1328  In our opinion, management's assertion that th...   \n",
       "1329        1329  KPWGs LLP  New York, New York  March 16, 2023 ...   \n",
       "1330        1330  The products discussed  herein may have differ...   \n",
       "1331        1331                  Copyright © 2022-2023 Pfizer Inc.   \n",
       "1332        1332  All rights reserved  66 Hudson Boulevard East ...   \n",
       "\n",
       "                                             label     score  \n",
       "0                                  Business_Ethics  0.256791  \n",
       "1     Management_Of_Legal_And_Regulatory_Framework  0.399786  \n",
       "2                        Business_Model_Resilience  0.760010  \n",
       "3             Human_Rights_And_Community_Relations  0.300252  \n",
       "4                         Access_And_Affordability  0.196161  \n",
       "...                                            ...       ...  \n",
       "1328  Management_Of_Legal_And_Regulatory_Framework  0.931985  \n",
       "1329        Selling_Practices_And_Product_Labeling  0.642459  \n",
       "1330        Selling_Practices_And_Product_Labeling  0.820957  \n",
       "1331  Management_Of_Legal_And_Regulatory_Framework  0.323478  \n",
       "1332                              Customer_Privacy  0.120179  \n",
       "\n",
       "[1333 rows x 4 columns]"
      ]
     },
     "execution_count": 8,
     "metadata": {},
     "output_type": "execute_result"
    }
   ],
   "source": [
    "df = pd.read_csv('../../example_db_data/example_db_data pfizer_2024.csv') #data was generated using esg_bert on the pfizer => esg-bert labels not our actual model\n",
    "df"
   ]
  },
  {
   "cell_type": "markdown",
   "metadata": {},
   "source": [
    "Using one category 'Physical_Impacts_Of_Climate_Change' to test"
   ]
  }
 ],
 "metadata": {
  "kernelspec": {
   "display_name": "3101_proj",
   "language": "python",
   "name": "python3"
  },
  "language_info": {
   "codemirror_mode": {
    "name": "ipython",
    "version": 3
   },
   "file_extension": ".py",
   "mimetype": "text/x-python",
   "name": "python",
   "nbconvert_exporter": "python",
   "pygments_lexer": "ipython3",
   "version": "3.9.21"
  }
 },
 "nbformat": 4,
 "nbformat_minor": 2
}
