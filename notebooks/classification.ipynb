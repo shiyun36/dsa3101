{
 "cells": [
  {
   "cell_type": "code",
   "execution_count": 1,
   "id": "afbcf5a7-9a5a-4e22-8a83-2b118a46ba83",
   "metadata": {},
   "outputs": [],
   "source": [
    "import os\n",
    "import re\n",
    "import requests\n",
    "import time\n",
    "import pandas as pd\n",
    "import numpy as np\n",
    "import torch \n",
    "from torch import nn\n",
    "from torch.optim import AdamW  \n",
    "from torch.utils.data import Dataset, DataLoader\n",
    "import numpy as np\n",
    "import pandas as pd \n",
    "from transformers import AutoModelForSequenceClassification, AutoModelForCausalLM, AutoTokenizer, pipeline, BertTokenizer, BertModel\n",
    "from transformers import Trainer, TrainingArguments\n",
    "import spacy\n",
    "from spacy import displacy\n",
    "\n",
    "from sklearn.model_selection import train_test_split\n",
    "from tqdm import tqdm\n",
    "torch.set_default_device(\"cpu\")\n",
    "import random\n",
    "import json"
   ]
  },
  {
   "cell_type": "code",
   "execution_count": 11,
   "id": "50a50819-1d8f-4369-ae0f-f6468631d156",
   "metadata": {},
   "outputs": [
    {
     "data": {
      "text/plain": [
       "'/Users/chienshiyun/Documents/_DSA3101/proj/dsa3101'"
      ]
     },
     "execution_count": 11,
     "metadata": {},
     "output_type": "execute_result"
    }
   ],
   "source": [
    "pwd"
   ]
  },
  {
   "cell_type": "code",
   "execution_count": 13,
   "id": "d66b593c-6022-4227-b803-dd82542be7b2",
   "metadata": {
    "collapsed": true,
    "jupyter": {
     "outputs_hidden": true
    },
    "tags": []
   },
   "outputs": [
    {
     "name": "stdout",
     "output_type": "stream",
     "text": [
      "Processing file: datasets_in_json/Energy/Australia/Origin_2024_ocr.json\n",
      "Processing file: datasets_in_json/Energy/Australia/Genex_2023_ocr.json\n",
      "Processing file: datasets_in_json/Energy/SA/Energisa_2023 _ocr.json\n",
      "Processing file: datasets_in_json/Energy/SA/Soltec_2023_ocr.json\n",
      "Processing file: datasets_in_json/Energy/Europe/Enel_2023_ocr.json\n",
      "Processing file: datasets_in_json/Health/NA/Pfizer_2022_ocr.json\n",
      "Processing file: datasets_in_json/Industrial/NA/JohnsonControl_2024_ocr.json\n",
      "Processing file: datasets_in_json/Industrial/NA/3M_2023_ocr.json\n",
      "Processing file: datasets_in_json/Industrial/NA/SPX_Flow_2024_ocr.json\n",
      "Processing file: datasets_in_json/Industrial/NA/Nordson_2023_ocr.json\n",
      "Processing file: datasets_in_json/Industrial/NA/MPMaterials_2024_ocr.json\n",
      "Processing file: datasets_in_json/Industrial/Australia/RioTinto_2022_ocr.json\n",
      "Processing file: datasets_in_json/Industrial/Asia/Hanwha_Solutions_2024_ocr.json\n",
      "Processing file: datasets_in_json/Industrial/Asia/Mencast_2021_ocr.json\n",
      "Processing file: datasets_in_json/Industrial/Asia/ApplieMaterials_2023_ocr.json\n",
      "Processing file: datasets_in_json/Industrial/Asia/Thong Guan_2023_ocr.json\n",
      "Processing file: datasets_in_json/Industrial/SA/Bioceres_2022_ocr.json\n",
      "Processing file: datasets_in_json/Industrial/SA/WEG_2023_ocr.json\n",
      "Processing file: datasets_in_json/Industrial/SA/petrobras_2023_ocr.json\n",
      "Processing file: datasets_in_json/Industrial/Africa/DangoteCemente_2023_ocr.json\n",
      "Processing file: datasets_in_json/Industrial/Africa/SASOL_2024_ocr.json\n",
      "Processing file: datasets_in_json/Finance/NA/Morgan_Stanley_2023_ocr.json\n",
      "Processing file: datasets_in_json/Finance/NA/Citibank_2022_ocr.json\n",
      "Processing file: datasets_in_json/Finance/Australia/ANZ_2024_ocr.json\n",
      "Processing file: datasets_in_json/Finance/Asia/BankofChina_2023_ocr.json\n",
      "Processing file: datasets_in_json/Finance/Asia/DBS_2023_ocr.json\n",
      "Processing file: datasets_in_json/Finance/SA/Itau_2023_ocr.json\n",
      "Processing file: datasets_in_json/Finance/Africa/NationalBankofKuwait-Egypt_2023_ocr.json\n",
      "Processing file: datasets_in_json/Tech/North America/DataDog_2024_ocr.json\n",
      "Processing file: datasets_in_json/Tech/North America/Marvell_2023_ocr.json\n",
      "Processing file: datasets_in_json/Tech/North America/IBM_2023_ocr.json\n",
      "Processing file: datasets_in_json/Tech/North America/Apple_2022_ocr.json\n",
      "Processing file: datasets_in_json/Tech/Australia/WiseTechGlobal_2024_ocr.json\n",
      "Processing file: datasets_in_json/Tech/Australia/TechnologyOne_2024_ocr.json\n",
      "Processing file: datasets_in_json/Tech/Asia/Lenovo_2324_ocr.json\n",
      "Processing file: datasets_in_json/Tech/Asia/Razer_2023_ocr.json\n",
      "Processing file: datasets_in_json/Tech/Asia/Sea_2023_ocr.json\n",
      "Processing file: datasets_in_json/Tech/Asia/Infosys_2324_ocr.json\n",
      "Processing file: datasets_in_json/Tech/Asia/LG_2023_ocr.json\n",
      "Processing file: datasets_in_json/Tech/Europe/Capgemini_2023_ocr.json\n",
      "Processing file: datasets_in_json/Tech/Europe/NorthVold_2024_ocr.json\n",
      "Processing file: datasets_in_json/Tech/Europe/Infopulse_2024_ocr.json\n",
      "Processing file: datasets_in_json/Tech/South America/N-iX_2024_ocr.json\n"
     ]
    }
   ],
   "source": [
    "import re\n",
    "dfs = {}\n",
    "pdf_folder_path = \"datasets_in_json/\"\n",
    "\n",
    "for industry in os.listdir(pdf_folder_path):\n",
    "    industry_path = os.path.join(pdf_folder_path, industry)  # Corrected variable name\n",
    "    if os.path.isdir(industry_path):  # Check if it's a directory for industry\n",
    "        for country in os.listdir(industry_path):  # Loop through countries in the industry folder\n",
    "            country_path = os.path.join(industry_path, country)\n",
    "            if os.path.isdir(country_path):  # Check if it's a directory for country\n",
    "                json_files = [f for f in os.listdir(country_path) if f.endswith('.json')]\n",
    "                for file in json_files:\n",
    "                    match = re.match(r\"(.+?)_(\\d{4})_ocr\\.json\", file)\n",
    "                    file_path = os.path.join(country_path, file)\n",
    "                    print(f\"Processing file: {file_path}\")\n",
    "\n",
    "                    with open(file_path, 'r', encoding='utf-8') as f:\n",
    "                        data = json.load(f)\n",
    "                    if isinstance(data, list):  \n",
    "                        df = pd.DataFrame(data, columns=[\"esg_text\"])\n",
    "                        df[\"country\"] = country\n",
    "                        df[\"industry\"] = industry\n",
    "                        if match:\n",
    "                            company_name, year = match.groups()\n",
    "                            df[\"company\"] = company_name\n",
    "                            df[\"year\"] = int(year)\n",
    "                        dfs[file] = df  # Store DataFrame with file name as key\n",
    "                    else:\n",
    "                        print(f\"Skipping {file}: Unsupported format\")\n",
    "                        continue\n"
   ]
  },
  {
   "cell_type": "code",
   "execution_count": 18,
   "id": "50801980-cb95-406c-8884-b181e8bbf435",
   "metadata": {},
   "outputs": [
    {
     "data": {
      "text/html": [
       "<div>\n",
       "<style scoped>\n",
       "    .dataframe tbody tr th:only-of-type {\n",
       "        vertical-align: middle;\n",
       "    }\n",
       "\n",
       "    .dataframe tbody tr th {\n",
       "        vertical-align: top;\n",
       "    }\n",
       "\n",
       "    .dataframe thead th {\n",
       "        text-align: right;\n",
       "    }\n",
       "</style>\n",
       "<table border=\"1\" class=\"dataframe\">\n",
       "  <thead>\n",
       "    <tr style=\"text-align: right;\">\n",
       "      <th></th>\n",
       "      <th>esg_text</th>\n",
       "      <th>country</th>\n",
       "      <th>industry</th>\n",
       "      <th>company</th>\n",
       "      <th>year</th>\n",
       "    </tr>\n",
       "  </thead>\n",
       "  <tbody>\n",
       "    <tr>\n",
       "      <th>0</th>\n",
       "      <td>Contents 000 0 000 0 Origin’s 2024 Sustainabil...</td>\n",
       "      <td>Australia</td>\n",
       "      <td>Energy</td>\n",
       "      <td>Origin</td>\n",
       "      <td>2024</td>\n",
       "    </tr>\n",
       "    <tr>\n",
       "      <th>1</th>\n",
       "      <td>See our GRI content index and Our Sustainabili...</td>\n",
       "      <td>Australia</td>\n",
       "      <td>Energy</td>\n",
       "      <td>Origin</td>\n",
       "      <td>2024</td>\n",
       "    </tr>\n",
       "    <tr>\n",
       "      <th>2</th>\n",
       "      <td>corporate reporting suite, which includes: sus...</td>\n",
       "      <td>Australia</td>\n",
       "      <td>Energy</td>\n",
       "      <td>Origin</td>\n",
       "      <td>2024</td>\n",
       "    </tr>\n",
       "    <tr>\n",
       "      <th>3</th>\n",
       "      <td>© 2024 Annual Report A message from the CEO 3 ...</td>\n",
       "      <td>Australia</td>\n",
       "      <td>Energy</td>\n",
       "      <td>Origin</td>\n",
       "      <td>2024</td>\n",
       "    </tr>\n",
       "    <tr>\n",
       "      <th>4</th>\n",
       "      <td>wirttteeessescess eee cere cere cree cece eee ...</td>\n",
       "      <td>Australia</td>\n",
       "      <td>Energy</td>\n",
       "      <td>Origin</td>\n",
       "      <td>2024</td>\n",
       "    </tr>\n",
       "    <tr>\n",
       "      <th>...</th>\n",
       "      <td>...</td>\n",
       "      <td>...</td>\n",
       "      <td>...</td>\n",
       "      <td>...</td>\n",
       "      <td>...</td>\n",
       "    </tr>\n",
       "    <tr>\n",
       "      <th>913</th>\n",
       "      <td>Where data is not available due to timing, we ...</td>\n",
       "      <td>Australia</td>\n",
       "      <td>Energy</td>\n",
       "      <td>Origin</td>\n",
       "      <td>2024</td>\n",
       "    </tr>\n",
       "    <tr>\n",
       "      <th>914</th>\n",
       "      <td>Where applicable, we revise prior year data in...</td>\n",
       "      <td>Australia</td>\n",
       "      <td>Energy</td>\n",
       "      <td>Origin</td>\n",
       "      <td>2024</td>\n",
       "    </tr>\n",
       "    <tr>\n",
       "      <th>915</th>\n",
       "      <td>Additional emissions information is available ...</td>\n",
       "      <td>Australia</td>\n",
       "      <td>Energy</td>\n",
       "      <td>Origin</td>\n",
       "      <td>2024</td>\n",
       "    </tr>\n",
       "    <tr>\n",
       "      <th>916</th>\n",
       "      <td>1.</td>\n",
       "      <td>Australia</td>\n",
       "      <td>Energy</td>\n",
       "      <td>Origin</td>\n",
       "      <td>2024</td>\n",
       "    </tr>\n",
       "    <tr>\n",
       "      <th>917</th>\n",
       "      <td>ghgprotocol.org/standards/scope-3-standard Dir...</td>\n",
       "      <td>Australia</td>\n",
       "      <td>Energy</td>\n",
       "      <td>Origin</td>\n",
       "      <td>2024</td>\n",
       "    </tr>\n",
       "  </tbody>\n",
       "</table>\n",
       "<p>918 rows × 5 columns</p>\n",
       "</div>"
      ],
      "text/plain": [
       "                                              esg_text    country industry  \\\n",
       "0    Contents 000 0 000 0 Origin’s 2024 Sustainabil...  Australia   Energy   \n",
       "1    See our GRI content index and Our Sustainabili...  Australia   Energy   \n",
       "2    corporate reporting suite, which includes: sus...  Australia   Energy   \n",
       "3    © 2024 Annual Report A message from the CEO 3 ...  Australia   Energy   \n",
       "4    wirttteeessescess eee cere cere cree cece eee ...  Australia   Energy   \n",
       "..                                                 ...        ...      ...   \n",
       "913  Where data is not available due to timing, we ...  Australia   Energy   \n",
       "914  Where applicable, we revise prior year data in...  Australia   Energy   \n",
       "915  Additional emissions information is available ...  Australia   Energy   \n",
       "916                                                 1.  Australia   Energy   \n",
       "917  ghgprotocol.org/standards/scope-3-standard Dir...  Australia   Energy   \n",
       "\n",
       "    company  year  \n",
       "0    Origin  2024  \n",
       "1    Origin  2024  \n",
       "2    Origin  2024  \n",
       "3    Origin  2024  \n",
       "4    Origin  2024  \n",
       "..      ...   ...  \n",
       "913  Origin  2024  \n",
       "914  Origin  2024  \n",
       "915  Origin  2024  \n",
       "916  Origin  2024  \n",
       "917  Origin  2024  \n",
       "\n",
       "[918 rows x 5 columns]"
      ]
     },
     "execution_count": 18,
     "metadata": {},
     "output_type": "execute_result"
    }
   ],
   "source": [
    "dfs['Origin_2024_ocr.json']"
   ]
  },
  {
   "cell_type": "markdown",
   "id": "ae27e421-c198-49eb-acc3-3185eb314c74",
   "metadata": {
    "jp-MarkdownHeadingCollapsed": true,
    "tags": []
   },
   "source": [
    "# Data Cleaning\n",
    "1. Remove duplicate data \n",
    "2. Handle missing values"
   ]
  },
  {
   "cell_type": "code",
   "execution_count": 19,
   "id": "02390d22-eb4c-4a6c-b85a-e4032d0a1320",
   "metadata": {},
   "outputs": [
    {
     "name": "stdout",
     "output_type": "stream",
     "text": [
      "1091\n"
     ]
    }
   ],
   "source": [
    "df_combined = pd.concat(dfs.values(), ignore_index=True)\n",
    "missing_rows = df_combined[df_combined.isnull().any(axis=1)]\n",
    "print(len(missing_rows))\n",
    "df_combined.dropna(inplace=True)\n",
    "df_combined.drop_duplicates(inplace=True)"
   ]
  },
  {
   "cell_type": "code",
   "execution_count": 22,
   "id": "6a63b55e-ea24-420b-aced-065e314909f3",
   "metadata": {},
   "outputs": [
    {
     "data": {
      "text/plain": [
       "esg_text\n",
       "<class 'str'>    63903\n",
       "Name: count, dtype: int64"
      ]
     },
     "execution_count": 22,
     "metadata": {},
     "output_type": "execute_result"
    }
   ],
   "source": [
    "df_combined[\"esg_text\"].apply(type).value_counts()"
   ]
  },
  {
   "cell_type": "code",
   "execution_count": 23,
   "id": "5d30a618-ce4c-41d1-90cc-a5c405280218",
   "metadata": {},
   "outputs": [],
   "source": [
    "df_combined.to_csv('combined_files/not_categorised.csv', index=False)"
   ]
  },
  {
   "cell_type": "markdown",
   "id": "78e9ea4a-e6c4-4430-80c7-cb4c0d42f56d",
   "metadata": {
    "jp-MarkdownHeadingCollapsed": true,
    "tags": []
   },
   "source": [
    "# Data Transformation"
   ]
  },
  {
   "cell_type": "code",
   "execution_count": null,
   "id": "043fb489-1792-443e-86e7-21c33080ceab",
   "metadata": {},
   "outputs": [],
   "source": [
    "nlp = spacy.load(\"en_core_web_sm\")"
   ]
  },
  {
   "cell_type": "code",
   "execution_count": null,
   "id": "3c3269ed-4a36-4ad3-a800-f91161b0814f",
   "metadata": {},
   "outputs": [],
   "source": [
    "keywords = [\n",
    "    \"Environment\", \"Energy\", \"Waste\", \"Pollutants\", \"Water\", \"Climate\",\n",
    "    \"Decarbonisation\", \"Carbon\", \"emissions\", \"Strategy\", \"Social\", \"Labor\", \"Practices\", \"Human Rights\",\n",
    "    \"Human Capital\", \"Capital\", \"Management\", \"Occupational\", \"Health\" ,\"Safety\", \"Financial Inclusion\",\n",
    "    \"Community investment\", \"Customer\",\"Relations\", \"Privacy\", \"Protection\",\n",
    "    \"Gender\", \"Women\", \"Female\", \"Race\", \"Ethnic\", \"Diversity\", \"Governance\", \"Transparency\", \"Reporting\", \"Corporate Governance\",\n",
    "    \"Materiality\", \"Risk\", \"Crisis\",  \"Management\", \"Ethics\", \"Policy\",\n",
    "    \"Tax Strategy\", \"Shareholder\", \"Information Security\", \"Cybersecurity\", \"System Availability\",\"Sustainable\", \"Sustainable Finance\", \"Board Diversity\"\n",
    "]\n",
    "keywords_regex = \"|\".join([f\"\\\\b{k}\\\\b\" for k in keywords])  # \\b ensures whole-word matching\n",
    "\n",
    "\n",
    "def extract_ner(text):\n",
    "    if pd.isna(text):\n",
    "        return None\n",
    "    \n",
    "    doc = nlp(text)\n",
    "    entities = {\"numbers\": [], \"metrics\": [], \"dates\": []}\n",
    "\n",
    "    for ent in doc.ents:\n",
    "        if ent.label_ in [\"CARDINAL\", \"ORDINAL\"]:  # Numbers (e.g., \"10\", \"zero\", \"first\")\n",
    "            entities[\"numbers\"].append(ent.text)\n",
    "        elif ent.label_ in [\"QUANTITY\", \"PERCENT\", \"MONEY\"]:  # Metrics (e.g., \"5kg\", \"30%\", \"$100\")\n",
    "            entities[\"metrics\"].append(ent.text)\n",
    "        elif ent.label_ in [\"DATE\", \"TIME\"]:  # Dates/Time (e.g., \"January 1, 2024\", \"3 PM\")\n",
    "            entities[\"dates\"].append(ent.text)\n",
    "\n",
    "    return entities if any(entities.values()) else None\n",
    "\n",
    "\n",
    "df_combined[\"NER_Results\"] = df_combined[\"esg_text\"].apply(extract_ner)\n",
    "df_filtered = df_combined[\n",
    "    df_combined[\"NER_Results\"].notna() |  #df_combined.dropna(subset=[\"NER_Results\"])\n",
    "    df_combined[\"esg_text\"].str.contains(keywords_regex, case=False, na=False, regex=True)\n",
    "]\n"
   ]
  },
  {
   "cell_type": "code",
   "execution_count": null,
   "id": "5a169147-8ce9-463d-954a-cf09a0ac98d5",
   "metadata": {},
   "outputs": [],
   "source": [
    "print(len(df_combined))\n",
    "print(len(df_filtered))"
   ]
  },
  {
   "cell_type": "code",
   "execution_count": null,
   "id": "265d55ff-98f4-4dbc-9aa7-2f6e36e49aaa",
   "metadata": {},
   "outputs": [],
   "source": [
    "df_filtered.to_csv('../files/combined_pdfs_filteredNER_2802.csv', index=False)"
   ]
  },
  {
   "cell_type": "code",
   "execution_count": null,
   "id": "c7c04e0a-3264-49af-a3ec-504fea9047e8",
   "metadata": {},
   "outputs": [],
   "source": [
    "df_filtered.head(5)"
   ]
  },
  {
   "cell_type": "markdown",
   "id": "1610ddfe-5221-4c10-9251-3a174d2aa265",
   "metadata": {
    "jp-MarkdownHeadingCollapsed": true,
    "tags": []
   },
   "source": [
    "# Classification"
   ]
  },
  {
   "cell_type": "code",
   "execution_count": 30,
   "id": "ddc522f2-0908-4fd7-af82-60c434709b36",
   "metadata": {},
   "outputs": [],
   "source": [
    "from transformers import BertTokenizer, BertForSequenceClassification\n",
    "MODEL_NAME = \"nbroad/ESG-BERT\"\n",
    "tokenizer = AutoTokenizer.from_pretrained(MODEL_NAME)  \n",
    "device = torch.device(\"cuda\" if torch.cuda.is_available() else \"cpu\")\n",
    "\n",
    "\n",
    "class ESGClassifier(nn.Module):\n",
    "    def __init__(self, n_classes=28):\n",
    "        super(ESGClassifier, self).__init__()\n",
    "        self.bert = BertModel.from_pretrained(MODEL_NAME) \n",
    "        self.dropout = nn.Dropout(p=0.3)\n",
    "        self.classifier = nn.Linear(self.bert.config.hidden_size, n_classes)\n",
    "        \n",
    "    def forward(self, input_ids, attention_mask):\n",
    "        outputs = self.bert(\n",
    "            input_ids=input_ids,\n",
    "            attention_mask=attention_mask\n",
    "        )\n",
    "        pooled_output = outputs.pooler_output\n",
    "        output = self.dropout(pooled_output)\n",
    "        return self.classifier(output)"
   ]
  },
  {
   "cell_type": "code",
   "execution_count": 32,
   "id": "24e7bf88-95f2-43d2-9f9d-26837204cbaa",
   "metadata": {
    "tags": []
   },
   "outputs": [
    {
     "data": {
      "text/plain": [
       "ESGClassifier(\n",
       "  (bert): BertModel(\n",
       "    (embeddings): BertEmbeddings(\n",
       "      (word_embeddings): Embedding(30522, 768, padding_idx=0)\n",
       "      (position_embeddings): Embedding(512, 768)\n",
       "      (token_type_embeddings): Embedding(2, 768)\n",
       "      (LayerNorm): LayerNorm((768,), eps=1e-12, elementwise_affine=True)\n",
       "      (dropout): Dropout(p=0.1, inplace=False)\n",
       "    )\n",
       "    (encoder): BertEncoder(\n",
       "      (layer): ModuleList(\n",
       "        (0-11): 12 x BertLayer(\n",
       "          (attention): BertAttention(\n",
       "            (self): BertSdpaSelfAttention(\n",
       "              (query): Linear(in_features=768, out_features=768, bias=True)\n",
       "              (key): Linear(in_features=768, out_features=768, bias=True)\n",
       "              (value): Linear(in_features=768, out_features=768, bias=True)\n",
       "              (dropout): Dropout(p=0.1, inplace=False)\n",
       "            )\n",
       "            (output): BertSelfOutput(\n",
       "              (dense): Linear(in_features=768, out_features=768, bias=True)\n",
       "              (LayerNorm): LayerNorm((768,), eps=1e-12, elementwise_affine=True)\n",
       "              (dropout): Dropout(p=0.1, inplace=False)\n",
       "            )\n",
       "          )\n",
       "          (intermediate): BertIntermediate(\n",
       "            (dense): Linear(in_features=768, out_features=3072, bias=True)\n",
       "            (intermediate_act_fn): GELUActivation()\n",
       "          )\n",
       "          (output): BertOutput(\n",
       "            (dense): Linear(in_features=3072, out_features=768, bias=True)\n",
       "            (LayerNorm): LayerNorm((768,), eps=1e-12, elementwise_affine=True)\n",
       "            (dropout): Dropout(p=0.1, inplace=False)\n",
       "          )\n",
       "        )\n",
       "      )\n",
       "    )\n",
       "    (pooler): BertPooler(\n",
       "      (dense): Linear(in_features=768, out_features=768, bias=True)\n",
       "      (activation): Tanh()\n",
       "    )\n",
       "  )\n",
       "  (dropout): Dropout(p=0.3, inplace=False)\n",
       "  (classifier): Linear(in_features=768, out_features=28, bias=True)\n",
       ")"
      ]
     },
     "execution_count": 32,
     "metadata": {},
     "output_type": "execute_result"
    }
   ],
   "source": [
    "MODEL_PATH = \"esgbert_model_full.pth\"\n",
    "model = ESGClassifier()\n",
    "model = torch.load(MODEL_PATH, map_location=device)  \n",
    "model.eval()"
   ]
  },
  {
   "cell_type": "code",
   "execution_count": 39,
   "id": "7620e4ca-12d9-49fc-83b2-3b29d30ca273",
   "metadata": {},
   "outputs": [
    {
     "data": {
      "text/plain": [
       "pandas.core.series.Series"
      ]
     },
     "execution_count": 39,
     "metadata": {},
     "output_type": "execute_result"
    }
   ],
   "source": [
    "type(df_combined[\"esg_text\"])"
   ]
  },
  {
   "cell_type": "code",
   "execution_count": 42,
   "id": "69988b80-e396-4601-9d87-dfbf023ebe98",
   "metadata": {},
   "outputs": [
    {
     "name": "stdout",
     "output_type": "stream",
     "text": [
      "<class 'torch.Tensor'>\n",
      "tensor([[ 3.2543e+00,  3.5519e+00,  1.9438e+00, -6.3103e-01,  1.6889e+00,\n",
      "          1.6461e+00,  2.2837e+00, -3.0058e+00, -3.7740e+00, -4.0991e+00,\n",
      "         -3.7867e+00, -2.6847e+00, -1.2956e+00, -1.1589e+00,  6.7044e-01,\n",
      "         -3.0336e+00, -3.9898e+00, -2.6495e+00,  1.8689e+00, -3.1223e+00,\n",
      "         -1.4244e+00, -2.2749e+00, -2.7990e+00, -3.9395e-01, -2.3462e+00,\n",
      "         -1.0446e+00,  4.3820e+00, -2.2058e+00],\n",
      "        [ 3.4920e+00, -4.1984e-01,  1.2028e+00, -1.0238e+00,  1.9961e+00,\n",
      "          1.4623e+00,  3.0394e+00, -4.4927e+00, -4.4525e+00, -5.5914e+00,\n",
      "         -4.4648e+00, -2.4135e+00, -1.9246e+00, -8.3860e-01, -1.5488e+00,\n",
      "         -3.3229e+00, -3.1849e+00, -2.8936e+00,  3.8835e+00, -1.7895e+00,\n",
      "          8.2715e-01, -4.8941e-02, -4.0159e+00, -7.6370e-01, -3.4307e+00,\n",
      "         -2.1421e+00,  4.5566e+00, -2.9161e+00],\n",
      "        [ 3.6965e+00, -1.4975e+00, -2.4553e-01, -1.8256e+00,  2.3617e+00,\n",
      "          1.3081e+00,  1.6035e+00, -4.5593e+00, -3.2147e+00, -4.8021e+00,\n",
      "         -4.4359e+00, -1.9215e+00, -6.6628e-01, -1.6488e+00, -5.7418e-01,\n",
      "         -3.7837e+00, -2.9755e+00, -2.1433e+00,  2.3813e+00, -9.7254e-01,\n",
      "          1.1209e+00,  2.4930e+00, -4.0960e+00,  1.5694e-01, -3.1781e+00,\n",
      "         -8.8660e-01,  3.8823e+00, -3.0727e+00],\n",
      "        [ 5.4710e+00, -2.7669e+00, -2.5409e+00, -3.4021e+00,  6.2961e-01,\n",
      "          4.0126e-02, -2.9513e-01, -4.3522e+00, -2.6109e+00, -4.2256e+00,\n",
      "         -5.5263e+00, -3.0732e+00,  1.0747e+00, -5.5810e-01, -2.1172e+00,\n",
      "         -1.9921e+00, -1.4859e+00, -2.4586e+00,  1.4001e+00,  1.6599e-01,\n",
      "          7.7774e-01,  1.0993e-01, -2.7095e+00,  1.3843e+00, -3.4314e+00,\n",
      "         -1.6267e+00,  1.0772e+00, -4.8399e+00],\n",
      "        [ 1.1748e+00,  3.1338e-02,  6.1458e-01,  4.5990e-01,  4.7375e+00,\n",
      "          4.7840e-01,  2.7034e+00, -2.1193e-01, -2.4854e+00, -1.1637e+00,\n",
      "         -2.0030e+00, -2.3044e+00, -3.9409e-01, -1.6730e+00,  5.3382e+00,\n",
      "         -4.1330e+00, -2.1504e+00,  2.1695e-02,  8.8756e-01, -2.0085e+00,\n",
      "         -1.7837e-01, -2.2473e-03, -1.6730e+00, -8.7531e-01, -1.8398e+00,\n",
      "         -6.0730e-02,  1.0003e+00, -2.1094e-01]])\n"
     ]
    }
   ],
   "source": [
    "text = df_combined[\"esg_text\"].head(5).tolist()\n",
    "inputs = tokenizer(text, return_tensors=\"pt\", padding=True, truncation=True, max_length=512).to(device)\n",
    "if 'token_type_ids' in inputs:\n",
    "    del inputs['token_type_ids']\n",
    "with torch.no_grad():\n",
    "    outputs = model(**inputs)\n",
    "\n",
    "# If the model returns a dictionary, access `logits`\n",
    "if hasattr(outputs, \"logits\"):  \n",
    "    logits = outputs.logits\n",
    "else:\n",
    "    logits = outputs  # Assume it's already a tensor\n",
    "\n",
    "# Apply softmax to logits\n",
    "probabilities = torch.nn.functional.softmax(logits, dim=-1)\n",
    "\n",
    "print(type(outputs))  # Check whether it's a Tensor or a dictionary\n",
    "print(outputs)        "
   ]
  },
  {
   "cell_type": "code",
   "execution_count": null,
   "id": "99e7a4d9-7a5a-4700-aed7-846c2d4d95d7",
   "metadata": {},
   "outputs": [
    {
     "name": "stderr",
     "output_type": "stream",
     "text": [
      "  0%|                                                              | 0/63903 [00:00<?, ?it/s]huggingface/tokenizers: The current process just got forked, after parallelism has already been used. Disabling parallelism to avoid deadlocks...\n",
      "To disable this warning, you can either:\n",
      "\t- Avoid using `tokenizers` before the fork if possible\n",
      "\t- Explicitly set the environment variable TOKENIZERS_PARALLELISM=(true | false)\n",
      " 29%|█████████████▋                                  | 18248/63903 [44:01<8:13:21,  1.54it/s]"
     ]
    }
   ],
   "source": [
    "candidate_labels = [\"No Label\",\n",
    "                    \"Environment - Energy efficiency\", \n",
    "                    \"Environment - Waste & Pollutants Generation\", \n",
    "                    \"Environment - Water Usage\", \n",
    "                    \"Environment - Climate Strategy\", \n",
    "                    \"Environment - Decarbonisation/Carbon emissions\", \n",
    "                    \"Environment - Strategy\",\n",
    "                    \"Social - Gender and Ethnic Diversity\",\n",
    "                    \"Social - Labor Practices\",\n",
    "                    \"Social - Human Rights\", \n",
    "                    \"Social - Human Capital Management\",\n",
    "                    \"Social - Occupational Health & Safety\",\n",
    "                    \"Social - Financial Inclusion\",           \n",
    "                    \"Social - Customer Relations\",\n",
    "                    \"Social - Privacy Protection\",\n",
    "                    \"Social - Community investment\",\n",
    "                    \"Social - Human Capital Management\",\n",
    "                    \"Governance - Board Diversity\",\n",
    "                    \"Governance - Transparency & Reporting\", \n",
    "                    \"Corporate Governance\", \n",
    "                    \"Governance - Materiality\", \n",
    "                    \"Governance - Risk & Crisis Management\",              \n",
    "                    \"Governance - Business Ethics\", \n",
    "                    \"Governance - Policy Influence\", \n",
    "                    \"Governance - Tax Strategy\", \n",
    "                    \"Governance - Information Security/ Cybersecurity & System Availability\", \n",
    "                    \"Governance - Sustainable Finance\",\n",
    "                    \"Governance - Shareholder rights\"]\n",
    "\n",
    "from tqdm import tqdm\n",
    "tqdm.pandas()\n",
    "\n",
    "THRESHOLD=0.5\n",
    "def classify_text(text):\n",
    "    if pd.isna(text): \n",
    "        return None\n",
    "\n",
    "    inputs = tokenizer(text, return_tensors=\"pt\", padding=True, truncation=True, max_length=512).to(device)\n",
    "    if 'token_type_ids' in inputs:\n",
    "        del inputs['token_type_ids']\n",
    "        \n",
    "    with torch.no_grad():\n",
    "        outputs = model(**inputs)\n",
    "        \n",
    "    if hasattr(outputs, \"logits\"):  \n",
    "        logits = outputs.logits\n",
    "    else:\n",
    "        logits = outputs  # Assume it's already a tensor\n",
    "\n",
    "\n",
    "    probabilities = torch.nn.functional.softmax(logits, dim=-1)  # Softmax for classification\n",
    "    probabilities = probabilities.squeeze().cpu().numpy()\n",
    "\n",
    "    if len(probabilities) != len(candidate_labels):\n",
    "        print(f\"Warning: Mismatch! Probabilities: {len(probabilities)}, Labels: {len(candidate_labels)}\")\n",
    "        return [\"Error\"]\n",
    "\n",
    "    assigned_labels = [candidate_labels[i] for i, prob in enumerate(probabilities) if prob > THRESHOLD]\n",
    "    return assigned_labels if assigned_labels else [\"No Label\"]\n",
    "\n",
    "tqdm.pandas()\n",
    "\n",
    "\n",
    "df_combined[\"labels\"] = df_combined[\"esg_text\"].progress_apply(classify_text)"
   ]
  },
  {
   "cell_type": "code",
   "execution_count": null,
   "id": "532cdb0c-a75e-44f2-b52a-cd58b1b9e9c7",
   "metadata": {},
   "outputs": [],
   "source": [
    "df_combined.head(5)"
   ]
  },
  {
   "cell_type": "code",
   "execution_count": null,
   "id": "ef1f4df5-700c-4dbc-9115-f5a64dac8b84",
   "metadata": {
    "tags": []
   },
   "outputs": [],
   "source": [
    "df_combined['labels'].value_counts()"
   ]
  },
  {
   "cell_type": "code",
   "execution_count": null,
   "id": "07bc10ad-102e-4ce8-993a-f26dba5dc01f",
   "metadata": {},
   "outputs": [],
   "source": [
    "df_combined.to_csv('files/labeled_pdfs_1003.csv', index=False)"
   ]
  },
  {
   "cell_type": "markdown",
   "id": "4346ed09-c518-43ec-8217-982390468e4c",
   "metadata": {},
   "source": [
    "# Add into Table"
   ]
  },
  {
   "cell_type": "code",
   "execution_count": null,
   "id": "5eb94536-8cbf-4ec0-b223-fe72ccf83ab7",
   "metadata": {},
   "outputs": [],
   "source": [
    "# import psycopg2\n",
    "# from datetime import datetime\n",
    "\n",
    "# # PostgreSQL connection\n",
    "# conn = psycopg2.connect(\n",
    "#     dbname=\"your_database\",\n",
    "#     user=\"your_user\",\n",
    "#     password=\"your_password\",\n",
    "#     host=\"localhost\",\n",
    "#     port=\"5432\"\n",
    "# )\n",
    "# cursor = conn.cursor()\n",
    "\n",
    "# # Example extracted ESG data\n",
    "# esg_data = {\n",
    "#     \"company_name\": \"Pfizer\",\n",
    "#     \"year\": 2023,\n",
    "#     \"carbon_emissions_reduction\": 7.5,\n",
    "#     \"renewable_energy_usage\": 8.0,\n",
    "#     \"waste_management\": 7.0,\n",
    "#     \"workforce_diversity\": 6.5,\n",
    "#     \"employee_rights\": 8.0,\n",
    "#     \"product_safety\": 7.5,\n",
    "#     \"board_independence\": 8.5,\n",
    "#     \"transparency\": 8.0,\n",
    "#     \"executive_pay_equity\": 6.0,\n",
    "#     \"anti_corruption_policies\": 7.5,\n",
    "#     \"overall_esg_score\": 7.43\n",
    "# }\n",
    "\n",
    "# # SQL INSERT query\n",
    "# query = \"\"\"\n",
    "# INSERT INTO ESG_Scores (company_name, year, carbon_emissions_reduction, renewable_energy_usage,\n",
    "#                         waste_management, workforce_diversity, employee_rights, product_safety,\n",
    "#                         board_independence, transparency, executive_pay_equity, anti_corruption_policies, \n",
    "#                         overall_esg_score, created_at) \n",
    "# VALUES (%s, %s, %s, %s, %s, %s, %s, %s, %s, %s, %s, %s, %s, %s)\n",
    "# \"\"\"\n",
    "\n",
    "# # Execute query\n",
    "# cursor.execute(query, (\n",
    "#     esg_data[\"company_name\"], esg_data[\"year\"], esg_data[\"carbon_emissions_reduction\"],\n",
    "#     esg_data[\"renewable_energy_usage\"], esg_data[\"waste_management\"], esg_data[\"workforce_diversity\"],\n",
    "#     esg_data[\"employee_rights\"], esg_data[\"product_safety\"], esg_data[\"board_independence\"],\n",
    "#     esg_data[\"transparency\"], esg_data[\"executive_pay_equity\"], esg_data[\"anti_corruption_policies\"],\n",
    "#     esg_data[\"overall_esg_score\"], datetime.now()\n",
    "# ))\n",
    "\n",
    "# # Commit and close\n",
    "# conn.commit()\n",
    "# cursor.close()\n",
    "# conn.close()\n",
    "\n",
    "# print(\"ESG data inserted successfully!\")\n"
   ]
  }
 ],
 "metadata": {
  "kernelspec": {
   "display_name": "(4265_assignment1)",
   "language": "python",
   "name": "4265_assignment1"
  },
  "language_info": {
   "codemirror_mode": {
    "name": "ipython",
    "version": 3
   },
   "file_extension": ".py",
   "mimetype": "text/x-python",
   "name": "python",
   "nbconvert_exporter": "python",
   "pygments_lexer": "ipython3",
   "version": "3.9.21"
  }
 },
 "nbformat": 4,
 "nbformat_minor": 5
}
