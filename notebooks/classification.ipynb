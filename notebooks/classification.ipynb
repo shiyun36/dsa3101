{
 "cells": [
  {
   "cell_type": "code",
   "execution_count": 2,
   "id": "afbcf5a7-9a5a-4e22-8a83-2b118a46ba83",
   "metadata": {},
   "outputs": [],
   "source": [
    "import os\n",
    "import requests\n",
    "import time\n",
    "import pandas as pd\n",
    "import numpy as np\n",
    "import torch \n",
    "from torch import nn\n",
    "from torch.optim import AdamW  \n",
    "from torch.utils.data import Dataset, DataLoader\n",
    "import numpy as np\n",
    "import pandas as pd \n",
    "from transformers import AutoModelForSequenceClassification, AutoModelForCausalLM, AutoTokenizer, pipeline, BertTokenizer, BertModel\n",
    "from transformers import Trainer, TrainingArguments\n",
    "import spacy\n",
    "from spacy import displacy\n",
    "\n",
    "from sklearn.model_selection import train_test_split\n",
    "from tqdm import tqdm\n",
    "torch.set_default_device(\"cpu\")\n",
    "import random\n",
    "import json"
   ]
  },
  {
   "cell_type": "code",
   "execution_count": 3,
   "id": "50a50819-1d8f-4369-ae0f-f6468631d156",
   "metadata": {},
   "outputs": [
    {
     "data": {
      "text/plain": [
       "'/Users/chienshiyun/Documents/_DSA3101/proj/dsa3101/notebooks'"
      ]
     },
     "execution_count": 3,
     "metadata": {},
     "output_type": "execute_result"
    }
   ],
   "source": [
    "pwd"
   ]
  },
  {
   "cell_type": "code",
   "execution_count": 60,
   "id": "d66b593c-6022-4227-b803-dd82542be7b2",
   "metadata": {},
   "outputs": [],
   "source": [
    "df_combined = pd.read_csv('../files/combined_pdfs_2602.csv')"
   ]
  },
  {
   "cell_type": "code",
   "execution_count": null,
   "id": "02390d22-eb4c-4a6c-b85a-e4032d0a1320",
   "metadata": {},
   "outputs": [],
   "source": [
    "dfs = {}\n",
    "pdf_folder_path = \"datasets/\"\n",
    "\n",
    "for folder_name in os.listdir(pdf_folder_path):\n",
    "    folder_path = os.path.join(pdf_folder_path, folder_name)  \n",
    "    if os.path.isdir(folder_path):  \n",
    "        json_files = [f for f in os.listdir(folder_path) if f.endswith('.json')]\n",
    "        for file in json_files:\n",
    "            file_path = os.path.join(folder_path, file)\n",
    "            print(f\"Processing file: {file_path}\")\n",
    "            \n",
    "            file_path = os.path.join(folder_path, file)\n",
    "            with open(file_path, 'r', encoding='utf-8') as f:\n",
    "                data = json.load(f)  # Load JSON file\n",
    "            if isinstance(data, list):  \n",
    "                df = pd.DataFrame(data, columns=[\"esg_text\"])\n",
    "            else:\n",
    "                print(f\"Skipping {file}: Unsupported format\")\n",
    "                continue\n",
    "            \n",
    "            dfs[file] = df\n",
    "            \n",
    "for file, df in dfs.items():\n",
    "    match = re.match(r\"(.+?)_(\\d{4})_ocr.json\", file)  \n",
    "    if match:\n",
    "        company_name, year = match.groups()\n",
    "        df[\"Company\"] = company_name\n",
    "        df[\"Year\"] = int(year)\n",
    "\n",
    "# Concatenate all DataFrames into df_combined\n",
    "df_combined = pd.concat(dfs.values(), ignore_index=True)\n",
    "missing_rows = df_combined[df_combined.isnull().any(axis=1)]\n",
    "print(len(missing_rows))\n",
    "df_combined.drop_duplicates(inplace=True)"
   ]
  },
  {
   "cell_type": "markdown",
   "id": "ae27e421-c198-49eb-acc3-3185eb314c74",
   "metadata": {
    "jp-MarkdownHeadingCollapsed": true,
    "tags": []
   },
   "source": [
    "# Data Cleaning\n",
    "1. Remove duplicate data \n",
    "2. Handle missing values"
   ]
  },
  {
   "cell_type": "code",
   "execution_count": null,
   "id": "8b57d473-2bd1-45ca-b552-06992886bef1",
   "metadata": {
    "tags": []
   },
   "outputs": [],
   "source": [
    "with open('../dataset_json/Health/Na/Pfizer_2022_ocr.json', 'r', encoding='utf-8') as f:\n",
    "    pfizer_data = json.load(f)  \n",
    "pfizer_df = pd.DataFrame(pfizer_data)\n",
    "pfizer_df.head(5)"
   ]
  },
  {
   "cell_type": "code",
   "execution_count": null,
   "id": "a74500b1-9795-4d2c-971c-4fea8f9437e0",
   "metadata": {},
   "outputs": [],
   "source": [
    "folder_path = \"../dataset_json/Tech/AsiaPac/\"\n",
    "\n",
    "json_files = [f for f in os.listdir(folder_path) if f.endswith('.json')]\n",
    "dfs = {}\n",
    "\n",
    "for file in json_files:\n",
    "    file_path = os.path.join(folder_path, file)\n",
    "    with open(file_path, 'r', encoding='utf-8') as f:\n",
    "        data = json.load(f)  # Load JSON file\n",
    "    if isinstance(data, list):  \n",
    "        df = pd.DataFrame(data)\n",
    "    else:\n",
    "        print(f\"Skipping {file}: Unsupported format\")\n",
    "        continue\n",
    "    \n",
    "    dfs[file] = df  \n",
    "dfs['pfizer_2022_ocr.json'] = pfizer_df"
   ]
  },
  {
   "cell_type": "code",
   "execution_count": null,
   "id": "ec03e42d-1ab5-47eb-a2e7-b0093e12ec8c",
   "metadata": {},
   "outputs": [],
   "source": [
    "folder_path = \"../dataset_json/Tech/Na/\"\n",
    "\n",
    "json_files = [f for f in os.listdir(folder_path) if f.endswith('.json')]\n",
    "for file in json_files:\n",
    "    file_path = os.path.join(folder_path, file)\n",
    "    with open(file_path, 'r', encoding='utf-8') as f:\n",
    "        data = json.load(f)  # Load JSON file\n",
    "    if isinstance(data, list):  \n",
    "        df = pd.DataFrame(data)\n",
    "    else:\n",
    "        print(f\"Skipping {file}: Unsupported format\")\n",
    "        continue\n",
    "    \n",
    "    dfs[file] = df  "
   ]
  },
  {
   "cell_type": "code",
   "execution_count": null,
   "id": "b8c84010-9ca6-4ee5-8d2b-b074f81bbd8f",
   "metadata": {},
   "outputs": [],
   "source": [
    "len(dfs)"
   ]
  },
  {
   "cell_type": "code",
   "execution_count": null,
   "id": "a7029892-50a9-4328-8605-42f178200016",
   "metadata": {
    "tags": []
   },
   "outputs": [],
   "source": [
    "for df in dfs.values(): \n",
    "    print('df info is')\n",
    "    #print(df.info())\n",
    "    #print(df.describe(include=\"all\") )\n",
    "    #print(df.columns)\n",
    "    #print(df.isnull().sum())\n",
    "    print(df.duplicated().sum())"
   ]
  },
  {
   "cell_type": "code",
   "execution_count": null,
   "id": "f639b65c-6153-4f2c-bcb3-a06acdb65a2a",
   "metadata": {},
   "outputs": [],
   "source": [
    "df_combined = pd.concat([df for df in dfs.values()], ignore_index=True)  \n",
    "missing_rows = df_combined[df_combined.isnull().any(axis=1)]\n",
    "print(len(missing_rows))\n",
    "df_combined.drop_duplicates(inplace=True)\n",
    "df_combined[\"esg_text\"].apply(type).value_counts()"
   ]
  },
  {
   "cell_type": "code",
   "execution_count": null,
   "id": "d94c2f20-ff0b-4517-8e18-992dcef18617",
   "metadata": {
    "tags": []
   },
   "outputs": [],
   "source": [
    "df_combined.drop_duplicates(inplace=True)\n",
    "df_combined[\"esg_text\"].apply(type).value_counts()"
   ]
  },
  {
   "cell_type": "markdown",
   "id": "78e9ea4a-e6c4-4430-80c7-cb4c0d42f56d",
   "metadata": {
    "jp-MarkdownHeadingCollapsed": true,
    "tags": []
   },
   "source": [
    "# Data Transformation"
   ]
  },
  {
   "cell_type": "code",
   "execution_count": 7,
   "id": "043fb489-1792-443e-86e7-21c33080ceab",
   "metadata": {},
   "outputs": [],
   "source": [
    "nlp = spacy.load(\"en_core_web_sm\")"
   ]
  },
  {
   "cell_type": "code",
   "execution_count": 28,
   "id": "3c3269ed-4a36-4ad3-a800-f91161b0814f",
   "metadata": {},
   "outputs": [],
   "source": [
    "keywords = [\n",
    "    \"Environment\", \"Energy\", \"Waste\", \"Pollutants\", \"Water\", \"Climate\",\n",
    "    \"Decarbonisation\", \"Carbon\", \"emissions\", \"Strategy\", \"Social\", \"Labor\", \"Practices\", \"Human Rights\",\n",
    "    \"Human Capital\", \"Capital\", \"Management\", \"Occupational\", \"Health\" ,\"Safety\", \"Financial Inclusion\",\n",
    "    \"Community investment\", \"Customer\",\"Relations\", \"Privacy\", \"Protection\",\n",
    "    \"Gender\", \"Women\", \"Female\", \"Race\", \"Ethnic\", \"Diversity\", \"Governance\", \"Transparency\", \"Reporting\", \"Corporate Governance\",\n",
    "    \"Materiality\", \"Risk\", \"Crisis\",  \"Management\", \"Ethics\", \"Policy\",\n",
    "    \"Tax Strategy\", \"Shareholder\", \"Information Security\", \"Cybersecurity\", \"System Availability\",\"Sustainable\", \"Sustainable Finance\", \"Board Diversity\"\n",
    "]\n",
    "keywords_regex = \"|\".join([f\"\\\\b{k}\\\\b\" for k in keywords])  # \\b ensures whole-word matching\n",
    "\n",
    "\n",
    "def extract_ner(text):\n",
    "    if pd.isna(text):\n",
    "        return None\n",
    "    \n",
    "    doc = nlp(text)\n",
    "    entities = {\"numbers\": [], \"metrics\": [], \"dates\": []}\n",
    "\n",
    "    for ent in doc.ents:\n",
    "        if ent.label_ in [\"CARDINAL\", \"ORDINAL\"]:  # Numbers (e.g., \"10\", \"zero\", \"first\")\n",
    "            entities[\"numbers\"].append(ent.text)\n",
    "        elif ent.label_ in [\"QUANTITY\", \"PERCENT\", \"MONEY\"]:  # Metrics (e.g., \"5kg\", \"30%\", \"$100\")\n",
    "            entities[\"metrics\"].append(ent.text)\n",
    "        elif ent.label_ in [\"DATE\", \"TIME\"]:  # Dates/Time (e.g., \"January 1, 2024\", \"3 PM\")\n",
    "            entities[\"dates\"].append(ent.text)\n",
    "\n",
    "    return entities if any(entities.values()) else None\n",
    "\n",
    "\n",
    "df_combined[\"NER_Results\"] = df_combined[\"esg_text\"].apply(extract_ner)\n",
    "df_filtered = df_combined[\n",
    "    df_combined[\"NER_Results\"].notna() |  #df_combined.dropna(subset=[\"NER_Results\"])\n",
    "    df_combined[\"esg_text\"].str.contains(keywords_regex, case=False, na=False, regex=True)\n",
    "]\n"
   ]
  },
  {
   "cell_type": "code",
   "execution_count": 33,
   "id": "5a169147-8ce9-463d-954a-cf09a0ac98d5",
   "metadata": {},
   "outputs": [
    {
     "name": "stdout",
     "output_type": "stream",
     "text": [
      "10702\n",
      "7253\n"
     ]
    }
   ],
   "source": [
    "print(len(df_combined))\n",
    "print(len(df_filtered))"
   ]
  },
  {
   "cell_type": "code",
   "execution_count": 34,
   "id": "265d55ff-98f4-4dbc-9aa7-2f6e36e49aaa",
   "metadata": {},
   "outputs": [],
   "source": [
    "df_filtered.to_csv('../files/combined_pdfs_filteredNER_2802.csv', index=False)"
   ]
  },
  {
   "cell_type": "code",
   "execution_count": 35,
   "id": "c7c04e0a-3264-49af-a3ec-504fea9047e8",
   "metadata": {},
   "outputs": [
    {
     "data": {
      "text/html": [
       "<div>\n",
       "<style scoped>\n",
       "    .dataframe tbody tr th:only-of-type {\n",
       "        vertical-align: middle;\n",
       "    }\n",
       "\n",
       "    .dataframe tbody tr th {\n",
       "        vertical-align: top;\n",
       "    }\n",
       "\n",
       "    .dataframe thead th {\n",
       "        text-align: right;\n",
       "    }\n",
       "</style>\n",
       "<table border=\"1\" class=\"dataframe\">\n",
       "  <thead>\n",
       "    <tr style=\"text-align: right;\">\n",
       "      <th></th>\n",
       "      <th>esg_text</th>\n",
       "      <th>NER_Results</th>\n",
       "    </tr>\n",
       "  </thead>\n",
       "  <tbody>\n",
       "    <tr>\n",
       "      <th>0</th>\n",
       "      <td>AOD  MIOLS  YALNNOD  GWNY 766  AGOD  MIOLS  YA...</td>\n",
       "      <td>{'numbers': ['4', '6', '8', '10', '11', '12', ...</td>\n",
       "    </tr>\n",
       "    <tr>\n",
       "      <th>1</th>\n",
       "      <td>This is the 18th consecutive year we have publ...</td>\n",
       "      <td>{'numbers': [], 'metrics': [], 'dates': ['the ...</td>\n",
       "    </tr>\n",
       "    <tr>\n",
       "      <th>2</th>\n",
       "      <td>Clearly, the past year presented our world wit...</td>\n",
       "      <td>{'numbers': [], 'metrics': [], 'dates': ['the ...</td>\n",
       "    </tr>\n",
       "    <tr>\n",
       "      <th>3</th>\n",
       "      <td>It is clear that Al will be a major priority a...</td>\n",
       "      <td>{'numbers': [], 'metrics': [], 'dates': ['year...</td>\n",
       "    </tr>\n",
       "    <tr>\n",
       "      <th>8</th>\n",
       "      <td>Al for environmental sustainability  We're pro...</td>\n",
       "      <td>{'numbers': ['net-zero'], 'metrics': [], 'date...</td>\n",
       "    </tr>\n",
       "  </tbody>\n",
       "</table>\n",
       "</div>"
      ],
      "text/plain": [
       "                                            esg_text  \\\n",
       "0  AOD  MIOLS  YALNNOD  GWNY 766  AGOD  MIOLS  YA...   \n",
       "1  This is the 18th consecutive year we have publ...   \n",
       "2  Clearly, the past year presented our world wit...   \n",
       "3  It is clear that Al will be a major priority a...   \n",
       "8  Al for environmental sustainability  We're pro...   \n",
       "\n",
       "                                         NER_Results  \n",
       "0  {'numbers': ['4', '6', '8', '10', '11', '12', ...  \n",
       "1  {'numbers': [], 'metrics': [], 'dates': ['the ...  \n",
       "2  {'numbers': [], 'metrics': [], 'dates': ['the ...  \n",
       "3  {'numbers': [], 'metrics': [], 'dates': ['year...  \n",
       "8  {'numbers': ['net-zero'], 'metrics': [], 'date...  "
      ]
     },
     "execution_count": 35,
     "metadata": {},
     "output_type": "execute_result"
    }
   ],
   "source": [
    "df_filtered.head(5)"
   ]
  },
  {
   "cell_type": "markdown",
   "id": "1610ddfe-5221-4c10-9251-3a174d2aa265",
   "metadata": {
    "jp-MarkdownHeadingCollapsed": true,
    "tags": []
   },
   "source": [
    "# Data labeling"
   ]
  },
  {
   "cell_type": "code",
   "execution_count": 61,
   "id": "24e7bf88-95f2-43d2-9f9d-26837204cbaa",
   "metadata": {
    "collapsed": true,
    "jupyter": {
     "outputs_hidden": true
    },
    "tags": []
   },
   "outputs": [
    {
     "data": {
      "text/plain": [
       "BertForSequenceClassification(\n",
       "  (bert): BertModel(\n",
       "    (embeddings): BertEmbeddings(\n",
       "      (word_embeddings): Embedding(30522, 768, padding_idx=0)\n",
       "      (position_embeddings): Embedding(512, 768)\n",
       "      (token_type_embeddings): Embedding(2, 768)\n",
       "      (LayerNorm): LayerNorm((768,), eps=1e-12, elementwise_affine=True)\n",
       "      (dropout): Dropout(p=0.1, inplace=False)\n",
       "    )\n",
       "    (encoder): BertEncoder(\n",
       "      (layer): ModuleList(\n",
       "        (0-11): 12 x BertLayer(\n",
       "          (attention): BertAttention(\n",
       "            (self): BertSdpaSelfAttention(\n",
       "              (query): Linear(in_features=768, out_features=768, bias=True)\n",
       "              (key): Linear(in_features=768, out_features=768, bias=True)\n",
       "              (value): Linear(in_features=768, out_features=768, bias=True)\n",
       "              (dropout): Dropout(p=0.1, inplace=False)\n",
       "            )\n",
       "            (output): BertSelfOutput(\n",
       "              (dense): Linear(in_features=768, out_features=768, bias=True)\n",
       "              (LayerNorm): LayerNorm((768,), eps=1e-12, elementwise_affine=True)\n",
       "              (dropout): Dropout(p=0.1, inplace=False)\n",
       "            )\n",
       "          )\n",
       "          (intermediate): BertIntermediate(\n",
       "            (dense): Linear(in_features=768, out_features=3072, bias=True)\n",
       "            (intermediate_act_fn): GELUActivation()\n",
       "          )\n",
       "          (output): BertOutput(\n",
       "            (dense): Linear(in_features=3072, out_features=768, bias=True)\n",
       "            (LayerNorm): LayerNorm((768,), eps=1e-12, elementwise_affine=True)\n",
       "            (dropout): Dropout(p=0.1, inplace=False)\n",
       "          )\n",
       "        )\n",
       "      )\n",
       "    )\n",
       "    (pooler): BertPooler(\n",
       "      (dense): Linear(in_features=768, out_features=768, bias=True)\n",
       "      (activation): Tanh()\n",
       "    )\n",
       "  )\n",
       "  (dropout): Dropout(p=0.1, inplace=False)\n",
       "  (classifier): Linear(in_features=768, out_features=26, bias=True)\n",
       ")"
      ]
     },
     "execution_count": 61,
     "metadata": {},
     "output_type": "execute_result"
    }
   ],
   "source": [
    "model_name = \"nbroad/ESG-BERT\" #\"nlpaueb/sec-bert-esg\" \n",
    "tokenizer = AutoTokenizer.from_pretrained(model_name)\n",
    "model = AutoModelForSequenceClassification.from_pretrained(model_name)\n",
    "\n",
    "device = torch.device(\"cuda\" if torch.cuda.is_available() else \"cpu\")\n",
    "model.to(device)\n"
   ]
  },
  {
   "cell_type": "code",
   "execution_count": 63,
   "id": "99e7a4d9-7a5a-4700-aed7-846c2d4d95d7",
   "metadata": {},
   "outputs": [
    {
     "name": "stdout",
     "output_type": "stream",
     "text": [
      "                                            esg_text      labels\n",
      "0  AOD  MIOLS  YALNNOD  GWNY 766  AGOD  MIOLS  YA...  [No Label]\n",
      "1  This is the 18th consecutive year we have publ...  [No Label]\n",
      "2  Clearly, the past year presented our world wit...  [No Label]\n",
      "3  It is clear that Al will be a major priority a...  [No Label]\n",
      "4  We are committed to accelerating the deploymen...  [No Label]\n"
     ]
    }
   ],
   "source": [
    "candidate_labels = [\"Environment - Energy efficiency\", \"Environment - Waste & Pollutants Generation\", \n",
    "                    \"Environment - Water Usage\", \"Environment - Climate Strategy\", \n",
    "                    \"Environment - Decarbonisation/Carbon emissions\", \"Environment - Strategy\",\n",
    "                    \"Social - Labor Practices\", \"Social - Human Rights\", \"Social - Human Capital Management\", \n",
    "                    \"Social - Occupational Health & Safety\", \"Social - Financial Inclusion\", \"Social - Community investment\",\n",
    "                    \"Social - Customer Relations\",\"Social - Privacy Protection\", 'Social - Gender and Ethnic Diversity',\n",
    "                    \"Governance - Transparency & Reporting\", \"Corporate Governance\", \"Governance - Materiality\", \n",
    "                    \"Governance - Risk & Crisis Management\", \"Governance - Business Ethics\", \n",
    "                    \"Governance - Policy Influence\", \"Governance - Tax Strategy\", \n",
    "                    \"Governance - Shareholder rights\",\n",
    "                    \"Governance - Information Security/ Cybersecurity & System Availability\", \n",
    "                    \"Governance - Sustainable Finance\", \"Governance - Board Diversity\"]\n",
    "\n",
    "THRESHOLD=0.5\n",
    "def classify_text(text):\n",
    "    if pd.isna(text): \n",
    "        return None\n",
    "\n",
    "    inputs = tokenizer(text, return_tensors=\"pt\", padding=True, truncation=True, max_length=512).to(device)\n",
    "    \n",
    "    with torch.no_grad():\n",
    "        outputs = model(**inputs)\n",
    "\n",
    "    probabilities = torch.nn.functional.softmax(outputs.logits, dim=-1)  # Softmax for classification\n",
    "    probabilities = probabilities.squeeze().cpu().numpy()\n",
    "\n",
    "    if len(probabilities) != len(candidate_labels):\n",
    "        print(f\"Warning: Mismatch! Probabilities: {len(probabilities)}, Labels: {len(candidate_labels)}\")\n",
    "        return [\"Error\"]\n",
    "\n",
    "    assigned_labels = [candidate_labels[i] for i, prob in enumerate(probabilities) if prob > THRESHOLD]\n",
    "    return assigned_labels if assigned_labels else [\"No Label\"]\n",
    "\n",
    "tqdm.pandas()\n",
    "\n",
    "\n",
    "df_combined[\"labels\"] = df_combined[\"esg_text\"].apply(classify_text)\n",
    "print(df_combined.head())\n"
   ]
  },
  {
   "cell_type": "code",
   "execution_count": 64,
   "id": "532cdb0c-a75e-44f2-b52a-cd58b1b9e9c7",
   "metadata": {},
   "outputs": [
    {
     "data": {
      "text/html": [
       "<div>\n",
       "<style scoped>\n",
       "    .dataframe tbody tr th:only-of-type {\n",
       "        vertical-align: middle;\n",
       "    }\n",
       "\n",
       "    .dataframe tbody tr th {\n",
       "        vertical-align: top;\n",
       "    }\n",
       "\n",
       "    .dataframe thead th {\n",
       "        text-align: right;\n",
       "    }\n",
       "</style>\n",
       "<table border=\"1\" class=\"dataframe\">\n",
       "  <thead>\n",
       "    <tr style=\"text-align: right;\">\n",
       "      <th></th>\n",
       "      <th>esg_text</th>\n",
       "      <th>labels</th>\n",
       "    </tr>\n",
       "  </thead>\n",
       "  <tbody>\n",
       "    <tr>\n",
       "      <th>0</th>\n",
       "      <td>AOD  MIOLS  YALNNOD  GWNY 766  AGOD  MIOLS  YA...</td>\n",
       "      <td>[No Label]</td>\n",
       "    </tr>\n",
       "    <tr>\n",
       "      <th>1</th>\n",
       "      <td>This is the 18th consecutive year we have publ...</td>\n",
       "      <td>[No Label]</td>\n",
       "    </tr>\n",
       "    <tr>\n",
       "      <th>2</th>\n",
       "      <td>Clearly, the past year presented our world wit...</td>\n",
       "      <td>[No Label]</td>\n",
       "    </tr>\n",
       "    <tr>\n",
       "      <th>3</th>\n",
       "      <td>It is clear that Al will be a major priority a...</td>\n",
       "      <td>[No Label]</td>\n",
       "    </tr>\n",
       "    <tr>\n",
       "      <th>4</th>\n",
       "      <td>We are committed to accelerating the deploymen...</td>\n",
       "      <td>[No Label]</td>\n",
       "    </tr>\n",
       "  </tbody>\n",
       "</table>\n",
       "</div>"
      ],
      "text/plain": [
       "                                            esg_text      labels\n",
       "0  AOD  MIOLS  YALNNOD  GWNY 766  AGOD  MIOLS  YA...  [No Label]\n",
       "1  This is the 18th consecutive year we have publ...  [No Label]\n",
       "2  Clearly, the past year presented our world wit...  [No Label]\n",
       "3  It is clear that Al will be a major priority a...  [No Label]\n",
       "4  We are committed to accelerating the deploymen...  [No Label]"
      ]
     },
     "execution_count": 64,
     "metadata": {},
     "output_type": "execute_result"
    }
   ],
   "source": [
    "df_combined.head(5)"
   ]
  },
  {
   "cell_type": "code",
   "execution_count": 65,
   "id": "ef1f4df5-700c-4dbc-9115-f5a64dac8b84",
   "metadata": {
    "tags": []
   },
   "outputs": [
    {
     "data": {
      "text/plain": [
       "labels\n",
       "[No Label]                                                                  3587\n",
       "[Social - Human Capital Management]                                          827\n",
       "[Governance - Transparency & Reporting]                                      620\n",
       "[Social - Customer Relations]                                                617\n",
       "[Governance - Materiality]                                                   487\n",
       "[Environment - Energy efficiency]                                            438\n",
       "[Governance - Board Diversity]                                               412\n",
       "[Governance - Sustainable Finance]                                           404\n",
       "[Social - Financial Inclusion]                                               360\n",
       "[Social - Occupational Health & Safety]                                      321\n",
       "[Social - Privacy Protection]                                                303\n",
       "[Environment - Waste & Pollutants Generation]                                293\n",
       "[Governance - Business Ethics]                                               287\n",
       "[Environment - Water Usage]                                                  283\n",
       "[Social - Community investment]                                              253\n",
       "[Environment - Climate Strategy]                                             225\n",
       "[Governance - Risk & Crisis Management]                                      192\n",
       "[Governance - Policy Influence]                                              172\n",
       "[Environment - Decarbonisation/Carbon emissions]                             110\n",
       "[Governance - Information Security/ Cybersecurity & System Availability]     107\n",
       "[Governance - Shareholder rights]                                             93\n",
       "[Social - Human Rights]                                                       92\n",
       "[Environment - Strategy]                                                      80\n",
       "[Social - Gender and Ethnic Diversity]                                        66\n",
       "[Governance - Tax Strategy]                                                   59\n",
       "[Corporate Governance]                                                        12\n",
       "[Social - Labor Practices]                                                     2\n",
       "Name: count, dtype: int64"
      ]
     },
     "execution_count": 65,
     "metadata": {},
     "output_type": "execute_result"
    }
   ],
   "source": [
    "df_combined['labels'].value_counts()"
   ]
  },
  {
   "cell_type": "code",
   "execution_count": 66,
   "id": "07bc10ad-102e-4ce8-993a-f26dba5dc01f",
   "metadata": {},
   "outputs": [],
   "source": [
    "df_combined.to_csv('../labeled_pdfs_2802.csv', index=False)"
   ]
  },
  {
   "cell_type": "markdown",
   "id": "0062f76b-bf24-4e14-ac76-1ee618633cfb",
   "metadata": {},
   "source": [
    "# Model Training with ESG-BERT "
   ]
  },
  {
   "cell_type": "markdown",
   "id": "d60958ec-06be-4cbf-9ff1-e49cdcfa9f39",
   "metadata": {},
   "source": [
    "## Label Map"
   ]
  },
  {
   "cell_type": "code",
   "execution_count": 4,
   "id": "7b28907c-cb02-4dfd-b547-3579ee518ba0",
   "metadata": {},
   "outputs": [],
   "source": [
    "import ast\n",
    "df = pd.read_csv('../files/labeled_pdfs_2802.csv')\n",
    "df['labels'] = df['labels'].apply(lambda x: ast.literal_eval(x) if isinstance(x, str) else x)"
   ]
  },
  {
   "cell_type": "code",
   "execution_count": 5,
   "id": "12c57392-6abd-448c-8592-58f5ea6bdfe8",
   "metadata": {},
   "outputs": [
    {
     "data": {
      "text/html": [
       "<div>\n",
       "<style scoped>\n",
       "    .dataframe tbody tr th:only-of-type {\n",
       "        vertical-align: middle;\n",
       "    }\n",
       "\n",
       "    .dataframe tbody tr th {\n",
       "        vertical-align: top;\n",
       "    }\n",
       "\n",
       "    .dataframe thead th {\n",
       "        text-align: right;\n",
       "    }\n",
       "</style>\n",
       "<table border=\"1\" class=\"dataframe\">\n",
       "  <thead>\n",
       "    <tr style=\"text-align: right;\">\n",
       "      <th></th>\n",
       "      <th>esg_text</th>\n",
       "      <th>labels</th>\n",
       "    </tr>\n",
       "  </thead>\n",
       "  <tbody>\n",
       "    <tr>\n",
       "      <th>0</th>\n",
       "      <td>AOD  MIOLS  YALNNOD  GWNY 766  AGOD  MIOLS  YA...</td>\n",
       "      <td>[No Label]</td>\n",
       "    </tr>\n",
       "    <tr>\n",
       "      <th>1</th>\n",
       "      <td>This is the 18th consecutive year we have publ...</td>\n",
       "      <td>[No Label]</td>\n",
       "    </tr>\n",
       "    <tr>\n",
       "      <th>2</th>\n",
       "      <td>Clearly, the past year presented our world wit...</td>\n",
       "      <td>[No Label]</td>\n",
       "    </tr>\n",
       "    <tr>\n",
       "      <th>3</th>\n",
       "      <td>It is clear that Al will be a major priority a...</td>\n",
       "      <td>[No Label]</td>\n",
       "    </tr>\n",
       "    <tr>\n",
       "      <th>4</th>\n",
       "      <td>We are committed to accelerating the deploymen...</td>\n",
       "      <td>[No Label]</td>\n",
       "    </tr>\n",
       "  </tbody>\n",
       "</table>\n",
       "</div>"
      ],
      "text/plain": [
       "                                            esg_text      labels\n",
       "0  AOD  MIOLS  YALNNOD  GWNY 766  AGOD  MIOLS  YA...  [No Label]\n",
       "1  This is the 18th consecutive year we have publ...  [No Label]\n",
       "2  Clearly, the past year presented our world wit...  [No Label]\n",
       "3  It is clear that Al will be a major priority a...  [No Label]\n",
       "4  We are committed to accelerating the deploymen...  [No Label]"
      ]
     },
     "execution_count": 5,
     "metadata": {},
     "output_type": "execute_result"
    }
   ],
   "source": [
    "df.head(5)"
   ]
  },
  {
   "cell_type": "code",
   "execution_count": 6,
   "id": "65d1cb2f-8cff-4d23-bcbe-e241c21bd207",
   "metadata": {},
   "outputs": [
    {
     "name": "stdout",
     "output_type": "stream",
     "text": [
      "Using device: mps\n"
     ]
    }
   ],
   "source": [
    "torch.manual_seed(42)\n",
    "torch.mps.empty_cache()\n",
    "\n",
    "device = (\n",
    "    \"mps\" \n",
    "    if torch.backends.mps.is_available() \n",
    "    else \"cuda\" \n",
    "    if torch.cuda.is_available() \n",
    "    else \"cpu\"\n",
    ")\n",
    "device = torch.device(device)\n",
    "print(f\"Using device: {device}\")\n"
   ]
  },
  {
   "cell_type": "code",
   "execution_count": 7,
   "id": "1878a7d8-9249-427f-9ae7-f21625943bf6",
   "metadata": {},
   "outputs": [],
   "source": [
    "label_map = {\n",
    "    \"No Label\": 0,\n",
    "    \"Environment - Energy efficiency\" : 11, \n",
    "    \"Environment - Waste & Pollutants Generation\": 12, \n",
    "    \"Environment - Water Usage\": 13, \n",
    "    \"Environment - Climate Strategy\": 14, \n",
    "    \"Environment - Decarbonisation/Carbon emissions\": 15, \n",
    "    \"Environment - Strategy\": 16,\n",
    "    \"Social - Gender and Ethnic Diversity\":20,\n",
    "    \"Social - Labor Practices\": 21,\n",
    "    \"Social - Human Rights\": 22, \n",
    "    \"Social - Human Capital Management\": 23,\n",
    "    \"Social - Occupational Health & Safety\":24,\n",
    "    \"Social - Financial Inclusion\": 25,           \n",
    "    \"Social - Customer Relations\": 26,\n",
    "    \"Social - Privacy Protection\": 27,\n",
    "    \"Social - Community investment\": 28,\n",
    "    \"Social - Human Capital Management\": 29,\n",
    "    \"Governance - Board Diversity\":30,\n",
    "    \"Governance - Transparency & Reporting\": 31, \n",
    "    \"Corporate Governance\": 32, \n",
    "    \"Governance - Materiality\": 33, \n",
    "    \"Governance - Risk & Crisis Management\": 34,              \n",
    "    \"Governance - Business Ethics\": 35, \n",
    "    \"Governance - Policy Influence\": 36, \n",
    "    \"Governance - Tax Strategy\": 37, \n",
    "    \"Governance - Information Security/ Cybersecurity & System Availability\": 38, \n",
    "    \"Governance - Sustainable Finance\": 39,\n",
    "    \"Governance - Shareholder rights\": 40\n",
    "}\n",
    "\n",
    "def map_labels(label_list):\n",
    "    if isinstance(label_list, list):  \n",
    "        return [label_map[label] for label in label_list if label in label_map]\n",
    "    return []  \n",
    "\n",
    "df['label'] = df['labels'].apply(map_labels)\n"
   ]
  },
  {
   "cell_type": "code",
   "execution_count": 8,
   "id": "6d7ba093-6a60-4382-ac00-1947db516eb0",
   "metadata": {},
   "outputs": [
    {
     "data": {
      "text/plain": [
       "label\n",
       "[0]     3587\n",
       "[29]     827\n",
       "[31]     620\n",
       "[26]     617\n",
       "[33]     487\n",
       "[11]     438\n",
       "[30]     412\n",
       "[39]     404\n",
       "[25]     360\n",
       "[24]     321\n",
       "[27]     303\n",
       "[12]     293\n",
       "[35]     287\n",
       "[13]     283\n",
       "[28]     253\n",
       "[14]     225\n",
       "[34]     192\n",
       "[36]     172\n",
       "[15]     110\n",
       "[38]     107\n",
       "[40]      93\n",
       "[22]      92\n",
       "[16]      80\n",
       "[20]      66\n",
       "[37]      59\n",
       "[32]      12\n",
       "[21]       2\n",
       "Name: count, dtype: int64"
      ]
     },
     "execution_count": 8,
     "metadata": {},
     "output_type": "execute_result"
    }
   ],
   "source": [
    "df['label'].value_counts()"
   ]
  },
  {
   "cell_type": "code",
   "execution_count": 9,
   "id": "270b4186-48e6-4db8-b155-d5a9715cd2c9",
   "metadata": {},
   "outputs": [],
   "source": [
    "df.to_csv('../files/label_map_2802.csv', index=False)"
   ]
  },
  {
   "cell_type": "code",
   "execution_count": 10,
   "id": "aa1ea8a8-f85c-43c6-8c4a-e6de583cdb3d",
   "metadata": {},
   "outputs": [
    {
     "data": {
      "text/html": [
       "<div>\n",
       "<style scoped>\n",
       "    .dataframe tbody tr th:only-of-type {\n",
       "        vertical-align: middle;\n",
       "    }\n",
       "\n",
       "    .dataframe tbody tr th {\n",
       "        vertical-align: top;\n",
       "    }\n",
       "\n",
       "    .dataframe thead th {\n",
       "        text-align: right;\n",
       "    }\n",
       "</style>\n",
       "<table border=\"1\" class=\"dataframe\">\n",
       "  <thead>\n",
       "    <tr style=\"text-align: right;\">\n",
       "      <th></th>\n",
       "      <th>esg_text</th>\n",
       "      <th>labels</th>\n",
       "      <th>label</th>\n",
       "    </tr>\n",
       "  </thead>\n",
       "  <tbody>\n",
       "  </tbody>\n",
       "</table>\n",
       "</div>"
      ],
      "text/plain": [
       "Empty DataFrame\n",
       "Columns: [esg_text, labels, label]\n",
       "Index: []"
      ]
     },
     "execution_count": 10,
     "metadata": {},
     "output_type": "execute_result"
    }
   ],
   "source": [
    "empty_rows = df[df['label'].apply(lambda x: len(x) == 0)]\n",
    "empty_rows"
   ]
  },
  {
   "cell_type": "markdown",
   "id": "33e7dedf-9ca5-4e98-90c3-de92b3d2491a",
   "metadata": {},
   "source": [
    "## Start training"
   ]
  },
  {
   "cell_type": "code",
   "execution_count": null,
   "id": "5fa188ba-75da-4bba-80fb-58652bed1d38",
   "metadata": {},
   "outputs": [],
   "source": [
    "df = pd.read_csv('../files/label_map_2802.csv')"
   ]
  },
  {
   "cell_type": "code",
   "execution_count": 11,
   "id": "87d59927-9e23-404e-800b-0bef688ebad8",
   "metadata": {},
   "outputs": [],
   "source": [
    "train_texts, val_texts, train_labels, val_labels = train_test_split(\n",
    "    df['esg_text'].values, \n",
    "    df['label'].values, \n",
    "    test_size=0.2,\n",
    "    random_state=42\n",
    ")"
   ]
  },
  {
   "cell_type": "code",
   "execution_count": 12,
   "id": "3199b45b-8cf6-4513-8f21-327066536b6f",
   "metadata": {},
   "outputs": [
    {
     "data": {
      "text/plain": [
       "8561"
      ]
     },
     "execution_count": 12,
     "metadata": {},
     "output_type": "execute_result"
    }
   ],
   "source": [
    "len(train_texts)"
   ]
  },
  {
   "cell_type": "code",
   "execution_count": 13,
   "id": "f5560204-a52f-4318-a16a-27066c9ecfbd",
   "metadata": {},
   "outputs": [],
   "source": [
    "MODEL_NAME = \"nbroad/ESG-BERT\"\n",
    "tokenizer = AutoTokenizer.from_pretrained(MODEL_NAME)  "
   ]
  },
  {
   "cell_type": "code",
   "execution_count": 15,
   "id": "b3a7427c-cb18-462e-b1ae-6ffaf5c001b8",
   "metadata": {},
   "outputs": [],
   "source": [
    "class NewsDataset(Dataset):\n",
    "    def __init__(self, texts, labels, tokenizer, max_length=128):\n",
    "        self.texts = list(map(str, texts))  \n",
    "        self.labels = list(map(str, labels))  \n",
    "        self.labels = [int(label[0]) for label in labels]\n",
    "        self.tokenizer = tokenizer\n",
    "        self.max_length = max_length\n",
    "    \n",
    "    def __len__(self):\n",
    "        return len(self.texts)\n",
    "    \n",
    "    def __getitem__(self, idx):\n",
    "        # If we receive a single index\n",
    "        if isinstance(idx, int):\n",
    "            text = str(self.texts[idx])\n",
    "            label = int(self.labels[idx])  \n",
    "    \n",
    "            encoding = self.tokenizer.encode_plus(\n",
    "                text,\n",
    "                add_special_tokens=True,\n",
    "                max_length=self.max_length,\n",
    "                return_token_type_ids=False,\n",
    "                padding='max_length',\n",
    "                truncation=True,\n",
    "                return_attention_mask=True,\n",
    "                return_tensors='pt'\n",
    "            )\n",
    "    \n",
    "            return {\n",
    "                'input_ids': encoding['input_ids'].squeeze(0),  # Remove extra dimension\n",
    "                'attention_mask': encoding['attention_mask'].squeeze(0),\n",
    "                'labels': torch.tensor(label, dtype=torch.long)\n",
    "            }\n",
    "        \n",
    "        # To receive a list of indices (in case of batching)\n",
    "        elif isinstance(idx, list):\n",
    "            batch = [self.__getitem__(i) for i in idx]\n",
    "            \n",
    "            # Return batch as dictionary\n",
    "            return {\n",
    "                'input_ids': torch.stack([item['input_ids'] for item in batch]),\n",
    "                'attention_mask': torch.stack([item['attention_mask'] for item in batch]),\n",
    "                'labels': torch.stack([item['labels'] for item in batch])\n",
    "            }"
   ]
  },
  {
   "cell_type": "markdown",
   "id": "4346ed09-c518-43ec-8217-982390468e4c",
   "metadata": {},
   "source": [
    "# Add into Table"
   ]
  },
  {
   "cell_type": "code",
   "execution_count": null,
   "id": "5eb94536-8cbf-4ec0-b223-fe72ccf83ab7",
   "metadata": {},
   "outputs": [],
   "source": [
    "# import psycopg2\n",
    "# from datetime import datetime\n",
    "\n",
    "# # PostgreSQL connection\n",
    "# conn = psycopg2.connect(\n",
    "#     dbname=\"your_database\",\n",
    "#     user=\"your_user\",\n",
    "#     password=\"your_password\",\n",
    "#     host=\"localhost\",\n",
    "#     port=\"5432\"\n",
    "# )\n",
    "# cursor = conn.cursor()\n",
    "\n",
    "# # Example extracted ESG data\n",
    "# esg_data = {\n",
    "#     \"company_name\": \"Pfizer\",\n",
    "#     \"year\": 2023,\n",
    "#     \"carbon_emissions_reduction\": 7.5,\n",
    "#     \"renewable_energy_usage\": 8.0,\n",
    "#     \"waste_management\": 7.0,\n",
    "#     \"workforce_diversity\": 6.5,\n",
    "#     \"employee_rights\": 8.0,\n",
    "#     \"product_safety\": 7.5,\n",
    "#     \"board_independence\": 8.5,\n",
    "#     \"transparency\": 8.0,\n",
    "#     \"executive_pay_equity\": 6.0,\n",
    "#     \"anti_corruption_policies\": 7.5,\n",
    "#     \"overall_esg_score\": 7.43\n",
    "# }\n",
    "\n",
    "# # SQL INSERT query\n",
    "# query = \"\"\"\n",
    "# INSERT INTO ESG_Scores (company_name, year, carbon_emissions_reduction, renewable_energy_usage,\n",
    "#                         waste_management, workforce_diversity, employee_rights, product_safety,\n",
    "#                         board_independence, transparency, executive_pay_equity, anti_corruption_policies, \n",
    "#                         overall_esg_score, created_at) \n",
    "# VALUES (%s, %s, %s, %s, %s, %s, %s, %s, %s, %s, %s, %s, %s, %s)\n",
    "# \"\"\"\n",
    "\n",
    "# # Execute query\n",
    "# cursor.execute(query, (\n",
    "#     esg_data[\"company_name\"], esg_data[\"year\"], esg_data[\"carbon_emissions_reduction\"],\n",
    "#     esg_data[\"renewable_energy_usage\"], esg_data[\"waste_management\"], esg_data[\"workforce_diversity\"],\n",
    "#     esg_data[\"employee_rights\"], esg_data[\"product_safety\"], esg_data[\"board_independence\"],\n",
    "#     esg_data[\"transparency\"], esg_data[\"executive_pay_equity\"], esg_data[\"anti_corruption_policies\"],\n",
    "#     esg_data[\"overall_esg_score\"], datetime.now()\n",
    "# ))\n",
    "\n",
    "# # Commit and close\n",
    "# conn.commit()\n",
    "# cursor.close()\n",
    "# conn.close()\n",
    "\n",
    "# print(\"ESG data inserted successfully!\")\n"
   ]
  }
 ],
 "metadata": {
  "kernelspec": {
   "display_name": "(4265_assignment1)",
   "language": "python",
   "name": "4265_assignment1"
  },
  "language_info": {
   "codemirror_mode": {
    "name": "ipython",
    "version": 3
   },
   "file_extension": ".py",
   "mimetype": "text/x-python",
   "name": "python",
   "nbconvert_exporter": "python",
   "pygments_lexer": "ipython3",
   "version": "3.9.21"
  }
 },
 "nbformat": 4,
 "nbformat_minor": 5
}
